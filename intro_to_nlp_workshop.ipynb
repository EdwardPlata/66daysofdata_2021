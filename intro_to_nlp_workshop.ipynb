{
  "nbformat": 4,
  "nbformat_minor": 0,
  "metadata": {
    "colab": {
      "name": "intro_to_nlp_workshop.ipynb",
      "provenance": [],
      "include_colab_link": true
    },
    "kernelspec": {
      "name": "python3",
      "display_name": "Python 3"
    },
    "widgets": {
      "application/vnd.jupyter.widget-state+json": {
        "e4c43e045e2a458d8ddd41ae3434b183": {
          "model_module": "@jupyter-widgets/controls",
          "model_name": "HBoxModel",
          "state": {
            "_view_name": "HBoxView",
            "_dom_classes": [],
            "_model_name": "HBoxModel",
            "_view_module": "@jupyter-widgets/controls",
            "_model_module_version": "1.5.0",
            "_view_count": null,
            "_view_module_version": "1.5.0",
            "box_style": "",
            "layout": "IPY_MODEL_e2a04e7a088e41498147af98188ce252",
            "_model_module": "@jupyter-widgets/controls",
            "children": [
              "IPY_MODEL_4e396ce57e0f4a33b6902a9f25f6a0bf",
              "IPY_MODEL_eae900599df544cda5755766ce492024"
            ]
          }
        },
        "e2a04e7a088e41498147af98188ce252": {
          "model_module": "@jupyter-widgets/base",
          "model_name": "LayoutModel",
          "state": {
            "_view_name": "LayoutView",
            "grid_template_rows": null,
            "right": null,
            "justify_content": null,
            "_view_module": "@jupyter-widgets/base",
            "overflow": null,
            "_model_module_version": "1.2.0",
            "_view_count": null,
            "flex_flow": null,
            "width": null,
            "min_width": null,
            "border": null,
            "align_items": null,
            "bottom": null,
            "_model_module": "@jupyter-widgets/base",
            "top": null,
            "grid_column": null,
            "overflow_y": null,
            "overflow_x": null,
            "grid_auto_flow": null,
            "grid_area": null,
            "grid_template_columns": null,
            "flex": null,
            "_model_name": "LayoutModel",
            "justify_items": null,
            "grid_row": null,
            "max_height": null,
            "align_content": null,
            "visibility": null,
            "align_self": null,
            "height": null,
            "min_height": null,
            "padding": null,
            "grid_auto_rows": null,
            "grid_gap": null,
            "max_width": null,
            "order": null,
            "_view_module_version": "1.2.0",
            "grid_template_areas": null,
            "object_position": null,
            "object_fit": null,
            "grid_auto_columns": null,
            "margin": null,
            "display": null,
            "left": null
          }
        },
        "4e396ce57e0f4a33b6902a9f25f6a0bf": {
          "model_module": "@jupyter-widgets/controls",
          "model_name": "FloatProgressModel",
          "state": {
            "_view_name": "ProgressView",
            "style": "IPY_MODEL_2b51b037a2704af5927d25a74257de2e",
            "_dom_classes": [],
            "description": "Dl Completed...: 100%",
            "_model_name": "FloatProgressModel",
            "bar_style": "success",
            "max": 1,
            "_view_module": "@jupyter-widgets/controls",
            "_model_module_version": "1.5.0",
            "value": 1,
            "_view_count": null,
            "_view_module_version": "1.5.0",
            "orientation": "horizontal",
            "min": 0,
            "description_tooltip": null,
            "_model_module": "@jupyter-widgets/controls",
            "layout": "IPY_MODEL_89262e00a6cf4ede81574523085494b6"
          }
        },
        "eae900599df544cda5755766ce492024": {
          "model_module": "@jupyter-widgets/controls",
          "model_name": "HTMLModel",
          "state": {
            "_view_name": "HTMLView",
            "style": "IPY_MODEL_c4d031b64a224137a4413cd4643e781a",
            "_dom_classes": [],
            "description": "",
            "_model_name": "HTMLModel",
            "placeholder": "​",
            "_view_module": "@jupyter-widgets/controls",
            "_model_module_version": "1.5.0",
            "value": " 1/1 [00:06&lt;00:00,  6.77s/ url]",
            "_view_count": null,
            "_view_module_version": "1.5.0",
            "description_tooltip": null,
            "_model_module": "@jupyter-widgets/controls",
            "layout": "IPY_MODEL_b4fb4f3ac6cd4516b696871451742556"
          }
        },
        "2b51b037a2704af5927d25a74257de2e": {
          "model_module": "@jupyter-widgets/controls",
          "model_name": "ProgressStyleModel",
          "state": {
            "_view_name": "StyleView",
            "_model_name": "ProgressStyleModel",
            "description_width": "initial",
            "_view_module": "@jupyter-widgets/base",
            "_model_module_version": "1.5.0",
            "_view_count": null,
            "_view_module_version": "1.2.0",
            "bar_color": null,
            "_model_module": "@jupyter-widgets/controls"
          }
        },
        "89262e00a6cf4ede81574523085494b6": {
          "model_module": "@jupyter-widgets/base",
          "model_name": "LayoutModel",
          "state": {
            "_view_name": "LayoutView",
            "grid_template_rows": null,
            "right": null,
            "justify_content": null,
            "_view_module": "@jupyter-widgets/base",
            "overflow": null,
            "_model_module_version": "1.2.0",
            "_view_count": null,
            "flex_flow": null,
            "width": null,
            "min_width": null,
            "border": null,
            "align_items": null,
            "bottom": null,
            "_model_module": "@jupyter-widgets/base",
            "top": null,
            "grid_column": null,
            "overflow_y": null,
            "overflow_x": null,
            "grid_auto_flow": null,
            "grid_area": null,
            "grid_template_columns": null,
            "flex": null,
            "_model_name": "LayoutModel",
            "justify_items": null,
            "grid_row": null,
            "max_height": null,
            "align_content": null,
            "visibility": null,
            "align_self": null,
            "height": null,
            "min_height": null,
            "padding": null,
            "grid_auto_rows": null,
            "grid_gap": null,
            "max_width": null,
            "order": null,
            "_view_module_version": "1.2.0",
            "grid_template_areas": null,
            "object_position": null,
            "object_fit": null,
            "grid_auto_columns": null,
            "margin": null,
            "display": null,
            "left": null
          }
        },
        "c4d031b64a224137a4413cd4643e781a": {
          "model_module": "@jupyter-widgets/controls",
          "model_name": "DescriptionStyleModel",
          "state": {
            "_view_name": "StyleView",
            "_model_name": "DescriptionStyleModel",
            "description_width": "",
            "_view_module": "@jupyter-widgets/base",
            "_model_module_version": "1.5.0",
            "_view_count": null,
            "_view_module_version": "1.2.0",
            "_model_module": "@jupyter-widgets/controls"
          }
        },
        "b4fb4f3ac6cd4516b696871451742556": {
          "model_module": "@jupyter-widgets/base",
          "model_name": "LayoutModel",
          "state": {
            "_view_name": "LayoutView",
            "grid_template_rows": null,
            "right": null,
            "justify_content": null,
            "_view_module": "@jupyter-widgets/base",
            "overflow": null,
            "_model_module_version": "1.2.0",
            "_view_count": null,
            "flex_flow": null,
            "width": null,
            "min_width": null,
            "border": null,
            "align_items": null,
            "bottom": null,
            "_model_module": "@jupyter-widgets/base",
            "top": null,
            "grid_column": null,
            "overflow_y": null,
            "overflow_x": null,
            "grid_auto_flow": null,
            "grid_area": null,
            "grid_template_columns": null,
            "flex": null,
            "_model_name": "LayoutModel",
            "justify_items": null,
            "grid_row": null,
            "max_height": null,
            "align_content": null,
            "visibility": null,
            "align_self": null,
            "height": null,
            "min_height": null,
            "padding": null,
            "grid_auto_rows": null,
            "grid_gap": null,
            "max_width": null,
            "order": null,
            "_view_module_version": "1.2.0",
            "grid_template_areas": null,
            "object_position": null,
            "object_fit": null,
            "grid_auto_columns": null,
            "margin": null,
            "display": null,
            "left": null
          }
        },
        "bb15c7f7357d433abf6d77e7a8e44f3a": {
          "model_module": "@jupyter-widgets/controls",
          "model_name": "HBoxModel",
          "state": {
            "_view_name": "HBoxView",
            "_dom_classes": [],
            "_model_name": "HBoxModel",
            "_view_module": "@jupyter-widgets/controls",
            "_model_module_version": "1.5.0",
            "_view_count": null,
            "_view_module_version": "1.5.0",
            "box_style": "",
            "layout": "IPY_MODEL_76ae7eb7a5744ef6a0e71f7041ae0867",
            "_model_module": "@jupyter-widgets/controls",
            "children": [
              "IPY_MODEL_68c8090c2d9940d29b102eccfc24718c",
              "IPY_MODEL_218331d417e44d92b4818f7322abf29a"
            ]
          }
        },
        "76ae7eb7a5744ef6a0e71f7041ae0867": {
          "model_module": "@jupyter-widgets/base",
          "model_name": "LayoutModel",
          "state": {
            "_view_name": "LayoutView",
            "grid_template_rows": null,
            "right": null,
            "justify_content": null,
            "_view_module": "@jupyter-widgets/base",
            "overflow": null,
            "_model_module_version": "1.2.0",
            "_view_count": null,
            "flex_flow": null,
            "width": null,
            "min_width": null,
            "border": null,
            "align_items": null,
            "bottom": null,
            "_model_module": "@jupyter-widgets/base",
            "top": null,
            "grid_column": null,
            "overflow_y": null,
            "overflow_x": null,
            "grid_auto_flow": null,
            "grid_area": null,
            "grid_template_columns": null,
            "flex": null,
            "_model_name": "LayoutModel",
            "justify_items": null,
            "grid_row": null,
            "max_height": null,
            "align_content": null,
            "visibility": null,
            "align_self": null,
            "height": null,
            "min_height": null,
            "padding": null,
            "grid_auto_rows": null,
            "grid_gap": null,
            "max_width": null,
            "order": null,
            "_view_module_version": "1.2.0",
            "grid_template_areas": null,
            "object_position": null,
            "object_fit": null,
            "grid_auto_columns": null,
            "margin": null,
            "display": null,
            "left": null
          }
        },
        "68c8090c2d9940d29b102eccfc24718c": {
          "model_module": "@jupyter-widgets/controls",
          "model_name": "FloatProgressModel",
          "state": {
            "_view_name": "ProgressView",
            "style": "IPY_MODEL_4f3bc754a2a0498b94b6500d887a99aa",
            "_dom_classes": [],
            "description": "Dl Size...: 100%",
            "_model_name": "FloatProgressModel",
            "bar_style": "success",
            "max": 1,
            "_view_module": "@jupyter-widgets/controls",
            "_model_module_version": "1.5.0",
            "value": 1,
            "_view_count": null,
            "_view_module_version": "1.5.0",
            "orientation": "horizontal",
            "min": 0,
            "description_tooltip": null,
            "_model_module": "@jupyter-widgets/controls",
            "layout": "IPY_MODEL_4794dfa43cbb4c2092d1a07d92447a2b"
          }
        },
        "218331d417e44d92b4818f7322abf29a": {
          "model_module": "@jupyter-widgets/controls",
          "model_name": "HTMLModel",
          "state": {
            "_view_name": "HTMLView",
            "style": "IPY_MODEL_655491dae8a04f7f8b7b8ecd5defad48",
            "_dom_classes": [],
            "description": "",
            "_model_name": "HTMLModel",
            "placeholder": "​",
            "_view_module": "@jupyter-widgets/controls",
            "_model_module_version": "1.5.0",
            "value": " 80/80 [00:06&lt;00:00, 11.88 MiB/s]",
            "_view_count": null,
            "_view_module_version": "1.5.0",
            "description_tooltip": null,
            "_model_module": "@jupyter-widgets/controls",
            "layout": "IPY_MODEL_2e45ade3d105444aa43be53af6660d46"
          }
        },
        "4f3bc754a2a0498b94b6500d887a99aa": {
          "model_module": "@jupyter-widgets/controls",
          "model_name": "ProgressStyleModel",
          "state": {
            "_view_name": "StyleView",
            "_model_name": "ProgressStyleModel",
            "description_width": "initial",
            "_view_module": "@jupyter-widgets/base",
            "_model_module_version": "1.5.0",
            "_view_count": null,
            "_view_module_version": "1.2.0",
            "bar_color": null,
            "_model_module": "@jupyter-widgets/controls"
          }
        },
        "4794dfa43cbb4c2092d1a07d92447a2b": {
          "model_module": "@jupyter-widgets/base",
          "model_name": "LayoutModel",
          "state": {
            "_view_name": "LayoutView",
            "grid_template_rows": null,
            "right": null,
            "justify_content": null,
            "_view_module": "@jupyter-widgets/base",
            "overflow": null,
            "_model_module_version": "1.2.0",
            "_view_count": null,
            "flex_flow": null,
            "width": null,
            "min_width": null,
            "border": null,
            "align_items": null,
            "bottom": null,
            "_model_module": "@jupyter-widgets/base",
            "top": null,
            "grid_column": null,
            "overflow_y": null,
            "overflow_x": null,
            "grid_auto_flow": null,
            "grid_area": null,
            "grid_template_columns": null,
            "flex": null,
            "_model_name": "LayoutModel",
            "justify_items": null,
            "grid_row": null,
            "max_height": null,
            "align_content": null,
            "visibility": null,
            "align_self": null,
            "height": null,
            "min_height": null,
            "padding": null,
            "grid_auto_rows": null,
            "grid_gap": null,
            "max_width": null,
            "order": null,
            "_view_module_version": "1.2.0",
            "grid_template_areas": null,
            "object_position": null,
            "object_fit": null,
            "grid_auto_columns": null,
            "margin": null,
            "display": null,
            "left": null
          }
        },
        "655491dae8a04f7f8b7b8ecd5defad48": {
          "model_module": "@jupyter-widgets/controls",
          "model_name": "DescriptionStyleModel",
          "state": {
            "_view_name": "StyleView",
            "_model_name": "DescriptionStyleModel",
            "description_width": "",
            "_view_module": "@jupyter-widgets/base",
            "_model_module_version": "1.5.0",
            "_view_count": null,
            "_view_module_version": "1.2.0",
            "_model_module": "@jupyter-widgets/controls"
          }
        },
        "2e45ade3d105444aa43be53af6660d46": {
          "model_module": "@jupyter-widgets/base",
          "model_name": "LayoutModel",
          "state": {
            "_view_name": "LayoutView",
            "grid_template_rows": null,
            "right": null,
            "justify_content": null,
            "_view_module": "@jupyter-widgets/base",
            "overflow": null,
            "_model_module_version": "1.2.0",
            "_view_count": null,
            "flex_flow": null,
            "width": null,
            "min_width": null,
            "border": null,
            "align_items": null,
            "bottom": null,
            "_model_module": "@jupyter-widgets/base",
            "top": null,
            "grid_column": null,
            "overflow_y": null,
            "overflow_x": null,
            "grid_auto_flow": null,
            "grid_area": null,
            "grid_template_columns": null,
            "flex": null,
            "_model_name": "LayoutModel",
            "justify_items": null,
            "grid_row": null,
            "max_height": null,
            "align_content": null,
            "visibility": null,
            "align_self": null,
            "height": null,
            "min_height": null,
            "padding": null,
            "grid_auto_rows": null,
            "grid_gap": null,
            "max_width": null,
            "order": null,
            "_view_module_version": "1.2.0",
            "grid_template_areas": null,
            "object_position": null,
            "object_fit": null,
            "grid_auto_columns": null,
            "margin": null,
            "display": null,
            "left": null
          }
        },
        "5acbd29f522a4292ba8dfdf0e4f77e60": {
          "model_module": "@jupyter-widgets/controls",
          "model_name": "HBoxModel",
          "state": {
            "_view_name": "HBoxView",
            "_dom_classes": [],
            "_model_name": "HBoxModel",
            "_view_module": "@jupyter-widgets/controls",
            "_model_module_version": "1.5.0",
            "_view_count": null,
            "_view_module_version": "1.5.0",
            "box_style": "",
            "layout": "IPY_MODEL_e78feb1f03624b80b92211a5d20a1ee7",
            "_model_module": "@jupyter-widgets/controls",
            "children": [
              "IPY_MODEL_a5109e875d18459bac37f2c817ee322f",
              "IPY_MODEL_0c8c46a625b94ddc9cc14825a7469153"
            ]
          }
        },
        "e78feb1f03624b80b92211a5d20a1ee7": {
          "model_module": "@jupyter-widgets/base",
          "model_name": "LayoutModel",
          "state": {
            "_view_name": "LayoutView",
            "grid_template_rows": null,
            "right": null,
            "justify_content": null,
            "_view_module": "@jupyter-widgets/base",
            "overflow": null,
            "_model_module_version": "1.2.0",
            "_view_count": null,
            "flex_flow": null,
            "width": null,
            "min_width": null,
            "border": null,
            "align_items": null,
            "bottom": null,
            "_model_module": "@jupyter-widgets/base",
            "top": null,
            "grid_column": null,
            "overflow_y": null,
            "overflow_x": null,
            "grid_auto_flow": null,
            "grid_area": null,
            "grid_template_columns": null,
            "flex": null,
            "_model_name": "LayoutModel",
            "justify_items": null,
            "grid_row": null,
            "max_height": null,
            "align_content": null,
            "visibility": null,
            "align_self": null,
            "height": null,
            "min_height": null,
            "padding": null,
            "grid_auto_rows": null,
            "grid_gap": null,
            "max_width": null,
            "order": null,
            "_view_module_version": "1.2.0",
            "grid_template_areas": null,
            "object_position": null,
            "object_fit": null,
            "grid_auto_columns": null,
            "margin": null,
            "display": null,
            "left": null
          }
        },
        "a5109e875d18459bac37f2c817ee322f": {
          "model_module": "@jupyter-widgets/controls",
          "model_name": "FloatProgressModel",
          "state": {
            "_view_name": "ProgressView",
            "style": "IPY_MODEL_ac529702a0f24ecbb34ce644e23613bb",
            "_dom_classes": [],
            "description": "",
            "_model_name": "FloatProgressModel",
            "bar_style": "info",
            "max": 1,
            "_view_module": "@jupyter-widgets/controls",
            "_model_module_version": "1.5.0",
            "value": 1,
            "_view_count": null,
            "_view_module_version": "1.5.0",
            "orientation": "horizontal",
            "min": 0,
            "description_tooltip": null,
            "_model_module": "@jupyter-widgets/controls",
            "layout": "IPY_MODEL_54dc9fd467fb41e9bf280435d01eb21b"
          }
        },
        "0c8c46a625b94ddc9cc14825a7469153": {
          "model_module": "@jupyter-widgets/controls",
          "model_name": "HTMLModel",
          "state": {
            "_view_name": "HTMLView",
            "style": "IPY_MODEL_92a959fdc6ed48f1ad115efd3540ea78",
            "_dom_classes": [],
            "description": "",
            "_model_name": "HTMLModel",
            "placeholder": "​",
            "_view_module": "@jupyter-widgets/controls",
            "_model_module_version": "1.5.0",
            "value": " 25000/0 [00:14&lt;00:00, 3151.07 examples/s]",
            "_view_count": null,
            "_view_module_version": "1.5.0",
            "description_tooltip": null,
            "_model_module": "@jupyter-widgets/controls",
            "layout": "IPY_MODEL_f94956e15cde45dca8955e5855f6d238"
          }
        },
        "ac529702a0f24ecbb34ce644e23613bb": {
          "model_module": "@jupyter-widgets/controls",
          "model_name": "ProgressStyleModel",
          "state": {
            "_view_name": "StyleView",
            "_model_name": "ProgressStyleModel",
            "description_width": "initial",
            "_view_module": "@jupyter-widgets/base",
            "_model_module_version": "1.5.0",
            "_view_count": null,
            "_view_module_version": "1.2.0",
            "bar_color": null,
            "_model_module": "@jupyter-widgets/controls"
          }
        },
        "54dc9fd467fb41e9bf280435d01eb21b": {
          "model_module": "@jupyter-widgets/base",
          "model_name": "LayoutModel",
          "state": {
            "_view_name": "LayoutView",
            "grid_template_rows": null,
            "right": null,
            "justify_content": null,
            "_view_module": "@jupyter-widgets/base",
            "overflow": null,
            "_model_module_version": "1.2.0",
            "_view_count": null,
            "flex_flow": null,
            "width": null,
            "min_width": null,
            "border": null,
            "align_items": null,
            "bottom": null,
            "_model_module": "@jupyter-widgets/base",
            "top": null,
            "grid_column": null,
            "overflow_y": null,
            "overflow_x": null,
            "grid_auto_flow": null,
            "grid_area": null,
            "grid_template_columns": null,
            "flex": null,
            "_model_name": "LayoutModel",
            "justify_items": null,
            "grid_row": null,
            "max_height": null,
            "align_content": null,
            "visibility": null,
            "align_self": null,
            "height": null,
            "min_height": null,
            "padding": null,
            "grid_auto_rows": null,
            "grid_gap": null,
            "max_width": null,
            "order": null,
            "_view_module_version": "1.2.0",
            "grid_template_areas": null,
            "object_position": null,
            "object_fit": null,
            "grid_auto_columns": null,
            "margin": null,
            "display": null,
            "left": null
          }
        },
        "92a959fdc6ed48f1ad115efd3540ea78": {
          "model_module": "@jupyter-widgets/controls",
          "model_name": "DescriptionStyleModel",
          "state": {
            "_view_name": "StyleView",
            "_model_name": "DescriptionStyleModel",
            "description_width": "",
            "_view_module": "@jupyter-widgets/base",
            "_model_module_version": "1.5.0",
            "_view_count": null,
            "_view_module_version": "1.2.0",
            "_model_module": "@jupyter-widgets/controls"
          }
        },
        "f94956e15cde45dca8955e5855f6d238": {
          "model_module": "@jupyter-widgets/base",
          "model_name": "LayoutModel",
          "state": {
            "_view_name": "LayoutView",
            "grid_template_rows": null,
            "right": null,
            "justify_content": null,
            "_view_module": "@jupyter-widgets/base",
            "overflow": null,
            "_model_module_version": "1.2.0",
            "_view_count": null,
            "flex_flow": null,
            "width": null,
            "min_width": null,
            "border": null,
            "align_items": null,
            "bottom": null,
            "_model_module": "@jupyter-widgets/base",
            "top": null,
            "grid_column": null,
            "overflow_y": null,
            "overflow_x": null,
            "grid_auto_flow": null,
            "grid_area": null,
            "grid_template_columns": null,
            "flex": null,
            "_model_name": "LayoutModel",
            "justify_items": null,
            "grid_row": null,
            "max_height": null,
            "align_content": null,
            "visibility": null,
            "align_self": null,
            "height": null,
            "min_height": null,
            "padding": null,
            "grid_auto_rows": null,
            "grid_gap": null,
            "max_width": null,
            "order": null,
            "_view_module_version": "1.2.0",
            "grid_template_areas": null,
            "object_position": null,
            "object_fit": null,
            "grid_auto_columns": null,
            "margin": null,
            "display": null,
            "left": null
          }
        },
        "a3c758479ee84a918e7cb158fdd7c06d": {
          "model_module": "@jupyter-widgets/controls",
          "model_name": "HBoxModel",
          "state": {
            "_view_name": "HBoxView",
            "_dom_classes": [],
            "_model_name": "HBoxModel",
            "_view_module": "@jupyter-widgets/controls",
            "_model_module_version": "1.5.0",
            "_view_count": null,
            "_view_module_version": "1.5.0",
            "box_style": "",
            "layout": "IPY_MODEL_808a7530a7d947c687aa48ac74342bbc",
            "_model_module": "@jupyter-widgets/controls",
            "children": [
              "IPY_MODEL_482df0efc7544e27b4457a6148a29488",
              "IPY_MODEL_e56ec6ab5c374615bfcfd52cc53d30a4"
            ]
          }
        },
        "808a7530a7d947c687aa48ac74342bbc": {
          "model_module": "@jupyter-widgets/base",
          "model_name": "LayoutModel",
          "state": {
            "_view_name": "LayoutView",
            "grid_template_rows": null,
            "right": null,
            "justify_content": null,
            "_view_module": "@jupyter-widgets/base",
            "overflow": null,
            "_model_module_version": "1.2.0",
            "_view_count": null,
            "flex_flow": null,
            "width": null,
            "min_width": null,
            "border": null,
            "align_items": null,
            "bottom": null,
            "_model_module": "@jupyter-widgets/base",
            "top": null,
            "grid_column": null,
            "overflow_y": null,
            "overflow_x": null,
            "grid_auto_flow": null,
            "grid_area": null,
            "grid_template_columns": null,
            "flex": null,
            "_model_name": "LayoutModel",
            "justify_items": null,
            "grid_row": null,
            "max_height": null,
            "align_content": null,
            "visibility": null,
            "align_self": null,
            "height": null,
            "min_height": null,
            "padding": null,
            "grid_auto_rows": null,
            "grid_gap": null,
            "max_width": null,
            "order": null,
            "_view_module_version": "1.2.0",
            "grid_template_areas": null,
            "object_position": null,
            "object_fit": null,
            "grid_auto_columns": null,
            "margin": null,
            "display": null,
            "left": null
          }
        },
        "482df0efc7544e27b4457a6148a29488": {
          "model_module": "@jupyter-widgets/controls",
          "model_name": "FloatProgressModel",
          "state": {
            "_view_name": "ProgressView",
            "style": "IPY_MODEL_0e7b01cfbdf14d0ab0f0a0924dc63cbc",
            "_dom_classes": [],
            "description": " 31%",
            "_model_name": "FloatProgressModel",
            "bar_style": "danger",
            "max": 25000,
            "_view_module": "@jupyter-widgets/controls",
            "_model_module_version": "1.5.0",
            "value": 7797,
            "_view_count": null,
            "_view_module_version": "1.5.0",
            "orientation": "horizontal",
            "min": 0,
            "description_tooltip": null,
            "_model_module": "@jupyter-widgets/controls",
            "layout": "IPY_MODEL_c7b1d324bbd4423f88ca3d03a740c210"
          }
        },
        "e56ec6ab5c374615bfcfd52cc53d30a4": {
          "model_module": "@jupyter-widgets/controls",
          "model_name": "HTMLModel",
          "state": {
            "_view_name": "HTMLView",
            "style": "IPY_MODEL_cc8f9b3bc3894017ba6d166c326c47d3",
            "_dom_classes": [],
            "description": "",
            "_model_name": "HTMLModel",
            "placeholder": "​",
            "_view_module": "@jupyter-widgets/controls",
            "_model_module_version": "1.5.0",
            "value": " 7797/25000 [00:00&lt;00:00, 77969.52 examples/s]",
            "_view_count": null,
            "_view_module_version": "1.5.0",
            "description_tooltip": null,
            "_model_module": "@jupyter-widgets/controls",
            "layout": "IPY_MODEL_495b10c30e544b67af3f289bfe661f14"
          }
        },
        "0e7b01cfbdf14d0ab0f0a0924dc63cbc": {
          "model_module": "@jupyter-widgets/controls",
          "model_name": "ProgressStyleModel",
          "state": {
            "_view_name": "StyleView",
            "_model_name": "ProgressStyleModel",
            "description_width": "initial",
            "_view_module": "@jupyter-widgets/base",
            "_model_module_version": "1.5.0",
            "_view_count": null,
            "_view_module_version": "1.2.0",
            "bar_color": null,
            "_model_module": "@jupyter-widgets/controls"
          }
        },
        "c7b1d324bbd4423f88ca3d03a740c210": {
          "model_module": "@jupyter-widgets/base",
          "model_name": "LayoutModel",
          "state": {
            "_view_name": "LayoutView",
            "grid_template_rows": null,
            "right": null,
            "justify_content": null,
            "_view_module": "@jupyter-widgets/base",
            "overflow": null,
            "_model_module_version": "1.2.0",
            "_view_count": null,
            "flex_flow": null,
            "width": null,
            "min_width": null,
            "border": null,
            "align_items": null,
            "bottom": null,
            "_model_module": "@jupyter-widgets/base",
            "top": null,
            "grid_column": null,
            "overflow_y": null,
            "overflow_x": null,
            "grid_auto_flow": null,
            "grid_area": null,
            "grid_template_columns": null,
            "flex": null,
            "_model_name": "LayoutModel",
            "justify_items": null,
            "grid_row": null,
            "max_height": null,
            "align_content": null,
            "visibility": null,
            "align_self": null,
            "height": null,
            "min_height": null,
            "padding": null,
            "grid_auto_rows": null,
            "grid_gap": null,
            "max_width": null,
            "order": null,
            "_view_module_version": "1.2.0",
            "grid_template_areas": null,
            "object_position": null,
            "object_fit": null,
            "grid_auto_columns": null,
            "margin": null,
            "display": null,
            "left": null
          }
        },
        "cc8f9b3bc3894017ba6d166c326c47d3": {
          "model_module": "@jupyter-widgets/controls",
          "model_name": "DescriptionStyleModel",
          "state": {
            "_view_name": "StyleView",
            "_model_name": "DescriptionStyleModel",
            "description_width": "",
            "_view_module": "@jupyter-widgets/base",
            "_model_module_version": "1.5.0",
            "_view_count": null,
            "_view_module_version": "1.2.0",
            "_model_module": "@jupyter-widgets/controls"
          }
        },
        "495b10c30e544b67af3f289bfe661f14": {
          "model_module": "@jupyter-widgets/base",
          "model_name": "LayoutModel",
          "state": {
            "_view_name": "LayoutView",
            "grid_template_rows": null,
            "right": null,
            "justify_content": null,
            "_view_module": "@jupyter-widgets/base",
            "overflow": null,
            "_model_module_version": "1.2.0",
            "_view_count": null,
            "flex_flow": null,
            "width": null,
            "min_width": null,
            "border": null,
            "align_items": null,
            "bottom": null,
            "_model_module": "@jupyter-widgets/base",
            "top": null,
            "grid_column": null,
            "overflow_y": null,
            "overflow_x": null,
            "grid_auto_flow": null,
            "grid_area": null,
            "grid_template_columns": null,
            "flex": null,
            "_model_name": "LayoutModel",
            "justify_items": null,
            "grid_row": null,
            "max_height": null,
            "align_content": null,
            "visibility": null,
            "align_self": null,
            "height": null,
            "min_height": null,
            "padding": null,
            "grid_auto_rows": null,
            "grid_gap": null,
            "max_width": null,
            "order": null,
            "_view_module_version": "1.2.0",
            "grid_template_areas": null,
            "object_position": null,
            "object_fit": null,
            "grid_auto_columns": null,
            "margin": null,
            "display": null,
            "left": null
          }
        },
        "732a637061734207b2a75b03d52a934b": {
          "model_module": "@jupyter-widgets/controls",
          "model_name": "HBoxModel",
          "state": {
            "_view_name": "HBoxView",
            "_dom_classes": [],
            "_model_name": "HBoxModel",
            "_view_module": "@jupyter-widgets/controls",
            "_model_module_version": "1.5.0",
            "_view_count": null,
            "_view_module_version": "1.5.0",
            "box_style": "",
            "layout": "IPY_MODEL_b0725453bc344662a9d536f58a420941",
            "_model_module": "@jupyter-widgets/controls",
            "children": [
              "IPY_MODEL_53e2995b365d4e74b64e81c6bd5be831",
              "IPY_MODEL_0e782de972784bff8a765ca813c553bd"
            ]
          }
        },
        "b0725453bc344662a9d536f58a420941": {
          "model_module": "@jupyter-widgets/base",
          "model_name": "LayoutModel",
          "state": {
            "_view_name": "LayoutView",
            "grid_template_rows": null,
            "right": null,
            "justify_content": null,
            "_view_module": "@jupyter-widgets/base",
            "overflow": null,
            "_model_module_version": "1.2.0",
            "_view_count": null,
            "flex_flow": null,
            "width": null,
            "min_width": null,
            "border": null,
            "align_items": null,
            "bottom": null,
            "_model_module": "@jupyter-widgets/base",
            "top": null,
            "grid_column": null,
            "overflow_y": null,
            "overflow_x": null,
            "grid_auto_flow": null,
            "grid_area": null,
            "grid_template_columns": null,
            "flex": null,
            "_model_name": "LayoutModel",
            "justify_items": null,
            "grid_row": null,
            "max_height": null,
            "align_content": null,
            "visibility": null,
            "align_self": null,
            "height": null,
            "min_height": null,
            "padding": null,
            "grid_auto_rows": null,
            "grid_gap": null,
            "max_width": null,
            "order": null,
            "_view_module_version": "1.2.0",
            "grid_template_areas": null,
            "object_position": null,
            "object_fit": null,
            "grid_auto_columns": null,
            "margin": null,
            "display": null,
            "left": null
          }
        },
        "53e2995b365d4e74b64e81c6bd5be831": {
          "model_module": "@jupyter-widgets/controls",
          "model_name": "FloatProgressModel",
          "state": {
            "_view_name": "ProgressView",
            "style": "IPY_MODEL_0e840561b7714d6a9eaaf8f9fb9d69d5",
            "_dom_classes": [],
            "description": "",
            "_model_name": "FloatProgressModel",
            "bar_style": "info",
            "max": 1,
            "_view_module": "@jupyter-widgets/controls",
            "_model_module_version": "1.5.0",
            "value": 1,
            "_view_count": null,
            "_view_module_version": "1.5.0",
            "orientation": "horizontal",
            "min": 0,
            "description_tooltip": null,
            "_model_module": "@jupyter-widgets/controls",
            "layout": "IPY_MODEL_025bd62c90704b7da055ba90326bc26b"
          }
        },
        "0e782de972784bff8a765ca813c553bd": {
          "model_module": "@jupyter-widgets/controls",
          "model_name": "HTMLModel",
          "state": {
            "_view_name": "HTMLView",
            "style": "IPY_MODEL_63446d561e8f462d9cc8549ee060358c",
            "_dom_classes": [],
            "description": "",
            "_model_name": "HTMLModel",
            "placeholder": "​",
            "_view_module": "@jupyter-widgets/controls",
            "_model_module_version": "1.5.0",
            "value": " 25000/0 [00:14&lt;00:00, 3236.23 examples/s]",
            "_view_count": null,
            "_view_module_version": "1.5.0",
            "description_tooltip": null,
            "_model_module": "@jupyter-widgets/controls",
            "layout": "IPY_MODEL_f7c07b68b3a74c02ae72f4b528f01366"
          }
        },
        "0e840561b7714d6a9eaaf8f9fb9d69d5": {
          "model_module": "@jupyter-widgets/controls",
          "model_name": "ProgressStyleModel",
          "state": {
            "_view_name": "StyleView",
            "_model_name": "ProgressStyleModel",
            "description_width": "initial",
            "_view_module": "@jupyter-widgets/base",
            "_model_module_version": "1.5.0",
            "_view_count": null,
            "_view_module_version": "1.2.0",
            "bar_color": null,
            "_model_module": "@jupyter-widgets/controls"
          }
        },
        "025bd62c90704b7da055ba90326bc26b": {
          "model_module": "@jupyter-widgets/base",
          "model_name": "LayoutModel",
          "state": {
            "_view_name": "LayoutView",
            "grid_template_rows": null,
            "right": null,
            "justify_content": null,
            "_view_module": "@jupyter-widgets/base",
            "overflow": null,
            "_model_module_version": "1.2.0",
            "_view_count": null,
            "flex_flow": null,
            "width": null,
            "min_width": null,
            "border": null,
            "align_items": null,
            "bottom": null,
            "_model_module": "@jupyter-widgets/base",
            "top": null,
            "grid_column": null,
            "overflow_y": null,
            "overflow_x": null,
            "grid_auto_flow": null,
            "grid_area": null,
            "grid_template_columns": null,
            "flex": null,
            "_model_name": "LayoutModel",
            "justify_items": null,
            "grid_row": null,
            "max_height": null,
            "align_content": null,
            "visibility": null,
            "align_self": null,
            "height": null,
            "min_height": null,
            "padding": null,
            "grid_auto_rows": null,
            "grid_gap": null,
            "max_width": null,
            "order": null,
            "_view_module_version": "1.2.0",
            "grid_template_areas": null,
            "object_position": null,
            "object_fit": null,
            "grid_auto_columns": null,
            "margin": null,
            "display": null,
            "left": null
          }
        },
        "63446d561e8f462d9cc8549ee060358c": {
          "model_module": "@jupyter-widgets/controls",
          "model_name": "DescriptionStyleModel",
          "state": {
            "_view_name": "StyleView",
            "_model_name": "DescriptionStyleModel",
            "description_width": "",
            "_view_module": "@jupyter-widgets/base",
            "_model_module_version": "1.5.0",
            "_view_count": null,
            "_view_module_version": "1.2.0",
            "_model_module": "@jupyter-widgets/controls"
          }
        },
        "f7c07b68b3a74c02ae72f4b528f01366": {
          "model_module": "@jupyter-widgets/base",
          "model_name": "LayoutModel",
          "state": {
            "_view_name": "LayoutView",
            "grid_template_rows": null,
            "right": null,
            "justify_content": null,
            "_view_module": "@jupyter-widgets/base",
            "overflow": null,
            "_model_module_version": "1.2.0",
            "_view_count": null,
            "flex_flow": null,
            "width": null,
            "min_width": null,
            "border": null,
            "align_items": null,
            "bottom": null,
            "_model_module": "@jupyter-widgets/base",
            "top": null,
            "grid_column": null,
            "overflow_y": null,
            "overflow_x": null,
            "grid_auto_flow": null,
            "grid_area": null,
            "grid_template_columns": null,
            "flex": null,
            "_model_name": "LayoutModel",
            "justify_items": null,
            "grid_row": null,
            "max_height": null,
            "align_content": null,
            "visibility": null,
            "align_self": null,
            "height": null,
            "min_height": null,
            "padding": null,
            "grid_auto_rows": null,
            "grid_gap": null,
            "max_width": null,
            "order": null,
            "_view_module_version": "1.2.0",
            "grid_template_areas": null,
            "object_position": null,
            "object_fit": null,
            "grid_auto_columns": null,
            "margin": null,
            "display": null,
            "left": null
          }
        },
        "e5d63d647a734602b0a7d5f93be3b0b5": {
          "model_module": "@jupyter-widgets/controls",
          "model_name": "HBoxModel",
          "state": {
            "_view_name": "HBoxView",
            "_dom_classes": [],
            "_model_name": "HBoxModel",
            "_view_module": "@jupyter-widgets/controls",
            "_model_module_version": "1.5.0",
            "_view_count": null,
            "_view_module_version": "1.5.0",
            "box_style": "",
            "layout": "IPY_MODEL_b215dffee58f4416b9d4706209c61af1",
            "_model_module": "@jupyter-widgets/controls",
            "children": [
              "IPY_MODEL_effa16a4afc5402e80559bbee1e1a109",
              "IPY_MODEL_b3810fc4507d44d9aab4a0ddedd14911"
            ]
          }
        },
        "b215dffee58f4416b9d4706209c61af1": {
          "model_module": "@jupyter-widgets/base",
          "model_name": "LayoutModel",
          "state": {
            "_view_name": "LayoutView",
            "grid_template_rows": null,
            "right": null,
            "justify_content": null,
            "_view_module": "@jupyter-widgets/base",
            "overflow": null,
            "_model_module_version": "1.2.0",
            "_view_count": null,
            "flex_flow": null,
            "width": null,
            "min_width": null,
            "border": null,
            "align_items": null,
            "bottom": null,
            "_model_module": "@jupyter-widgets/base",
            "top": null,
            "grid_column": null,
            "overflow_y": null,
            "overflow_x": null,
            "grid_auto_flow": null,
            "grid_area": null,
            "grid_template_columns": null,
            "flex": null,
            "_model_name": "LayoutModel",
            "justify_items": null,
            "grid_row": null,
            "max_height": null,
            "align_content": null,
            "visibility": null,
            "align_self": null,
            "height": null,
            "min_height": null,
            "padding": null,
            "grid_auto_rows": null,
            "grid_gap": null,
            "max_width": null,
            "order": null,
            "_view_module_version": "1.2.0",
            "grid_template_areas": null,
            "object_position": null,
            "object_fit": null,
            "grid_auto_columns": null,
            "margin": null,
            "display": null,
            "left": null
          }
        },
        "effa16a4afc5402e80559bbee1e1a109": {
          "model_module": "@jupyter-widgets/controls",
          "model_name": "FloatProgressModel",
          "state": {
            "_view_name": "ProgressView",
            "style": "IPY_MODEL_19aea6d12aaa478fb1c3d03364cafcca",
            "_dom_classes": [],
            "description": " 30%",
            "_model_name": "FloatProgressModel",
            "bar_style": "danger",
            "max": 25000,
            "_view_module": "@jupyter-widgets/controls",
            "_model_module_version": "1.5.0",
            "value": 7513,
            "_view_count": null,
            "_view_module_version": "1.5.0",
            "orientation": "horizontal",
            "min": 0,
            "description_tooltip": null,
            "_model_module": "@jupyter-widgets/controls",
            "layout": "IPY_MODEL_89f7b8d2addc4e5cb825e8ba5fb50c91"
          }
        },
        "b3810fc4507d44d9aab4a0ddedd14911": {
          "model_module": "@jupyter-widgets/controls",
          "model_name": "HTMLModel",
          "state": {
            "_view_name": "HTMLView",
            "style": "IPY_MODEL_1910020e4d484c54be44a0399cf95bee",
            "_dom_classes": [],
            "description": "",
            "_model_name": "HTMLModel",
            "placeholder": "​",
            "_view_module": "@jupyter-widgets/controls",
            "_model_module_version": "1.5.0",
            "value": " 7513/25000 [00:00&lt;00:00, 75129.71 examples/s]",
            "_view_count": null,
            "_view_module_version": "1.5.0",
            "description_tooltip": null,
            "_model_module": "@jupyter-widgets/controls",
            "layout": "IPY_MODEL_d74f02add586473b9b3aaaf733d45a4e"
          }
        },
        "19aea6d12aaa478fb1c3d03364cafcca": {
          "model_module": "@jupyter-widgets/controls",
          "model_name": "ProgressStyleModel",
          "state": {
            "_view_name": "StyleView",
            "_model_name": "ProgressStyleModel",
            "description_width": "initial",
            "_view_module": "@jupyter-widgets/base",
            "_model_module_version": "1.5.0",
            "_view_count": null,
            "_view_module_version": "1.2.0",
            "bar_color": null,
            "_model_module": "@jupyter-widgets/controls"
          }
        },
        "89f7b8d2addc4e5cb825e8ba5fb50c91": {
          "model_module": "@jupyter-widgets/base",
          "model_name": "LayoutModel",
          "state": {
            "_view_name": "LayoutView",
            "grid_template_rows": null,
            "right": null,
            "justify_content": null,
            "_view_module": "@jupyter-widgets/base",
            "overflow": null,
            "_model_module_version": "1.2.0",
            "_view_count": null,
            "flex_flow": null,
            "width": null,
            "min_width": null,
            "border": null,
            "align_items": null,
            "bottom": null,
            "_model_module": "@jupyter-widgets/base",
            "top": null,
            "grid_column": null,
            "overflow_y": null,
            "overflow_x": null,
            "grid_auto_flow": null,
            "grid_area": null,
            "grid_template_columns": null,
            "flex": null,
            "_model_name": "LayoutModel",
            "justify_items": null,
            "grid_row": null,
            "max_height": null,
            "align_content": null,
            "visibility": null,
            "align_self": null,
            "height": null,
            "min_height": null,
            "padding": null,
            "grid_auto_rows": null,
            "grid_gap": null,
            "max_width": null,
            "order": null,
            "_view_module_version": "1.2.0",
            "grid_template_areas": null,
            "object_position": null,
            "object_fit": null,
            "grid_auto_columns": null,
            "margin": null,
            "display": null,
            "left": null
          }
        },
        "1910020e4d484c54be44a0399cf95bee": {
          "model_module": "@jupyter-widgets/controls",
          "model_name": "DescriptionStyleModel",
          "state": {
            "_view_name": "StyleView",
            "_model_name": "DescriptionStyleModel",
            "description_width": "",
            "_view_module": "@jupyter-widgets/base",
            "_model_module_version": "1.5.0",
            "_view_count": null,
            "_view_module_version": "1.2.0",
            "_model_module": "@jupyter-widgets/controls"
          }
        },
        "d74f02add586473b9b3aaaf733d45a4e": {
          "model_module": "@jupyter-widgets/base",
          "model_name": "LayoutModel",
          "state": {
            "_view_name": "LayoutView",
            "grid_template_rows": null,
            "right": null,
            "justify_content": null,
            "_view_module": "@jupyter-widgets/base",
            "overflow": null,
            "_model_module_version": "1.2.0",
            "_view_count": null,
            "flex_flow": null,
            "width": null,
            "min_width": null,
            "border": null,
            "align_items": null,
            "bottom": null,
            "_model_module": "@jupyter-widgets/base",
            "top": null,
            "grid_column": null,
            "overflow_y": null,
            "overflow_x": null,
            "grid_auto_flow": null,
            "grid_area": null,
            "grid_template_columns": null,
            "flex": null,
            "_model_name": "LayoutModel",
            "justify_items": null,
            "grid_row": null,
            "max_height": null,
            "align_content": null,
            "visibility": null,
            "align_self": null,
            "height": null,
            "min_height": null,
            "padding": null,
            "grid_auto_rows": null,
            "grid_gap": null,
            "max_width": null,
            "order": null,
            "_view_module_version": "1.2.0",
            "grid_template_areas": null,
            "object_position": null,
            "object_fit": null,
            "grid_auto_columns": null,
            "margin": null,
            "display": null,
            "left": null
          }
        },
        "f4585f1b5ef945cda3d70437388a380c": {
          "model_module": "@jupyter-widgets/controls",
          "model_name": "HBoxModel",
          "state": {
            "_view_name": "HBoxView",
            "_dom_classes": [],
            "_model_name": "HBoxModel",
            "_view_module": "@jupyter-widgets/controls",
            "_model_module_version": "1.5.0",
            "_view_count": null,
            "_view_module_version": "1.5.0",
            "box_style": "",
            "layout": "IPY_MODEL_5967e72d390845feb88ab7b1a2515897",
            "_model_module": "@jupyter-widgets/controls",
            "children": [
              "IPY_MODEL_1e436af93a934a81aec92ad63a9c4a1b",
              "IPY_MODEL_874c50b7cbdc4383a950afde7ee77910"
            ]
          }
        },
        "5967e72d390845feb88ab7b1a2515897": {
          "model_module": "@jupyter-widgets/base",
          "model_name": "LayoutModel",
          "state": {
            "_view_name": "LayoutView",
            "grid_template_rows": null,
            "right": null,
            "justify_content": null,
            "_view_module": "@jupyter-widgets/base",
            "overflow": null,
            "_model_module_version": "1.2.0",
            "_view_count": null,
            "flex_flow": null,
            "width": null,
            "min_width": null,
            "border": null,
            "align_items": null,
            "bottom": null,
            "_model_module": "@jupyter-widgets/base",
            "top": null,
            "grid_column": null,
            "overflow_y": null,
            "overflow_x": null,
            "grid_auto_flow": null,
            "grid_area": null,
            "grid_template_columns": null,
            "flex": null,
            "_model_name": "LayoutModel",
            "justify_items": null,
            "grid_row": null,
            "max_height": null,
            "align_content": null,
            "visibility": null,
            "align_self": null,
            "height": null,
            "min_height": null,
            "padding": null,
            "grid_auto_rows": null,
            "grid_gap": null,
            "max_width": null,
            "order": null,
            "_view_module_version": "1.2.0",
            "grid_template_areas": null,
            "object_position": null,
            "object_fit": null,
            "grid_auto_columns": null,
            "margin": null,
            "display": null,
            "left": null
          }
        },
        "1e436af93a934a81aec92ad63a9c4a1b": {
          "model_module": "@jupyter-widgets/controls",
          "model_name": "FloatProgressModel",
          "state": {
            "_view_name": "ProgressView",
            "style": "IPY_MODEL_69ce7ecde2ee432eab250d9cd2da6db0",
            "_dom_classes": [],
            "description": "",
            "_model_name": "FloatProgressModel",
            "bar_style": "info",
            "max": 1,
            "_view_module": "@jupyter-widgets/controls",
            "_model_module_version": "1.5.0",
            "value": 1,
            "_view_count": null,
            "_view_module_version": "1.5.0",
            "orientation": "horizontal",
            "min": 0,
            "description_tooltip": null,
            "_model_module": "@jupyter-widgets/controls",
            "layout": "IPY_MODEL_0df5b50e08dc4b1eb3b2d8c308314d1e"
          }
        },
        "874c50b7cbdc4383a950afde7ee77910": {
          "model_module": "@jupyter-widgets/controls",
          "model_name": "HTMLModel",
          "state": {
            "_view_name": "HTMLView",
            "style": "IPY_MODEL_731e5916db8c4f499b9b086689e993e3",
            "_dom_classes": [],
            "description": "",
            "_model_name": "HTMLModel",
            "placeholder": "​",
            "_view_module": "@jupyter-widgets/controls",
            "_model_module_version": "1.5.0",
            "value": " 50000/0 [00:20&lt;00:00, 3199.87 examples/s]",
            "_view_count": null,
            "_view_module_version": "1.5.0",
            "description_tooltip": null,
            "_model_module": "@jupyter-widgets/controls",
            "layout": "IPY_MODEL_e958daa68f0a49da8d80672294f5fac6"
          }
        },
        "69ce7ecde2ee432eab250d9cd2da6db0": {
          "model_module": "@jupyter-widgets/controls",
          "model_name": "ProgressStyleModel",
          "state": {
            "_view_name": "StyleView",
            "_model_name": "ProgressStyleModel",
            "description_width": "initial",
            "_view_module": "@jupyter-widgets/base",
            "_model_module_version": "1.5.0",
            "_view_count": null,
            "_view_module_version": "1.2.0",
            "bar_color": null,
            "_model_module": "@jupyter-widgets/controls"
          }
        },
        "0df5b50e08dc4b1eb3b2d8c308314d1e": {
          "model_module": "@jupyter-widgets/base",
          "model_name": "LayoutModel",
          "state": {
            "_view_name": "LayoutView",
            "grid_template_rows": null,
            "right": null,
            "justify_content": null,
            "_view_module": "@jupyter-widgets/base",
            "overflow": null,
            "_model_module_version": "1.2.0",
            "_view_count": null,
            "flex_flow": null,
            "width": null,
            "min_width": null,
            "border": null,
            "align_items": null,
            "bottom": null,
            "_model_module": "@jupyter-widgets/base",
            "top": null,
            "grid_column": null,
            "overflow_y": null,
            "overflow_x": null,
            "grid_auto_flow": null,
            "grid_area": null,
            "grid_template_columns": null,
            "flex": null,
            "_model_name": "LayoutModel",
            "justify_items": null,
            "grid_row": null,
            "max_height": null,
            "align_content": null,
            "visibility": null,
            "align_self": null,
            "height": null,
            "min_height": null,
            "padding": null,
            "grid_auto_rows": null,
            "grid_gap": null,
            "max_width": null,
            "order": null,
            "_view_module_version": "1.2.0",
            "grid_template_areas": null,
            "object_position": null,
            "object_fit": null,
            "grid_auto_columns": null,
            "margin": null,
            "display": null,
            "left": null
          }
        },
        "731e5916db8c4f499b9b086689e993e3": {
          "model_module": "@jupyter-widgets/controls",
          "model_name": "DescriptionStyleModel",
          "state": {
            "_view_name": "StyleView",
            "_model_name": "DescriptionStyleModel",
            "description_width": "",
            "_view_module": "@jupyter-widgets/base",
            "_model_module_version": "1.5.0",
            "_view_count": null,
            "_view_module_version": "1.2.0",
            "_model_module": "@jupyter-widgets/controls"
          }
        },
        "e958daa68f0a49da8d80672294f5fac6": {
          "model_module": "@jupyter-widgets/base",
          "model_name": "LayoutModel",
          "state": {
            "_view_name": "LayoutView",
            "grid_template_rows": null,
            "right": null,
            "justify_content": null,
            "_view_module": "@jupyter-widgets/base",
            "overflow": null,
            "_model_module_version": "1.2.0",
            "_view_count": null,
            "flex_flow": null,
            "width": null,
            "min_width": null,
            "border": null,
            "align_items": null,
            "bottom": null,
            "_model_module": "@jupyter-widgets/base",
            "top": null,
            "grid_column": null,
            "overflow_y": null,
            "overflow_x": null,
            "grid_auto_flow": null,
            "grid_area": null,
            "grid_template_columns": null,
            "flex": null,
            "_model_name": "LayoutModel",
            "justify_items": null,
            "grid_row": null,
            "max_height": null,
            "align_content": null,
            "visibility": null,
            "align_self": null,
            "height": null,
            "min_height": null,
            "padding": null,
            "grid_auto_rows": null,
            "grid_gap": null,
            "max_width": null,
            "order": null,
            "_view_module_version": "1.2.0",
            "grid_template_areas": null,
            "object_position": null,
            "object_fit": null,
            "grid_auto_columns": null,
            "margin": null,
            "display": null,
            "left": null
          }
        },
        "e7f8e07541aa4f558ae36b2cf34d556f": {
          "model_module": "@jupyter-widgets/controls",
          "model_name": "HBoxModel",
          "state": {
            "_view_name": "HBoxView",
            "_dom_classes": [],
            "_model_name": "HBoxModel",
            "_view_module": "@jupyter-widgets/controls",
            "_model_module_version": "1.5.0",
            "_view_count": null,
            "_view_module_version": "1.5.0",
            "box_style": "",
            "layout": "IPY_MODEL_202466d084cd414dbb3eaa11b208ea17",
            "_model_module": "@jupyter-widgets/controls",
            "children": [
              "IPY_MODEL_e57332ff27024b388afd6d78235b316b",
              "IPY_MODEL_d5ed18e73636416fb193c22c04c7c1ef"
            ]
          }
        },
        "202466d084cd414dbb3eaa11b208ea17": {
          "model_module": "@jupyter-widgets/base",
          "model_name": "LayoutModel",
          "state": {
            "_view_name": "LayoutView",
            "grid_template_rows": null,
            "right": null,
            "justify_content": null,
            "_view_module": "@jupyter-widgets/base",
            "overflow": null,
            "_model_module_version": "1.2.0",
            "_view_count": null,
            "flex_flow": null,
            "width": null,
            "min_width": null,
            "border": null,
            "align_items": null,
            "bottom": null,
            "_model_module": "@jupyter-widgets/base",
            "top": null,
            "grid_column": null,
            "overflow_y": null,
            "overflow_x": null,
            "grid_auto_flow": null,
            "grid_area": null,
            "grid_template_columns": null,
            "flex": null,
            "_model_name": "LayoutModel",
            "justify_items": null,
            "grid_row": null,
            "max_height": null,
            "align_content": null,
            "visibility": null,
            "align_self": null,
            "height": null,
            "min_height": null,
            "padding": null,
            "grid_auto_rows": null,
            "grid_gap": null,
            "max_width": null,
            "order": null,
            "_view_module_version": "1.2.0",
            "grid_template_areas": null,
            "object_position": null,
            "object_fit": null,
            "grid_auto_columns": null,
            "margin": null,
            "display": null,
            "left": null
          }
        },
        "e57332ff27024b388afd6d78235b316b": {
          "model_module": "@jupyter-widgets/controls",
          "model_name": "FloatProgressModel",
          "state": {
            "_view_name": "ProgressView",
            "style": "IPY_MODEL_58fcb4603b2a44d09cf77000a6d2d70b",
            "_dom_classes": [],
            "description": " 77%",
            "_model_name": "FloatProgressModel",
            "bar_style": "danger",
            "max": 50000,
            "_view_module": "@jupyter-widgets/controls",
            "_model_module_version": "1.5.0",
            "value": 38679,
            "_view_count": null,
            "_view_module_version": "1.5.0",
            "orientation": "horizontal",
            "min": 0,
            "description_tooltip": null,
            "_model_module": "@jupyter-widgets/controls",
            "layout": "IPY_MODEL_1264bd71453e494f942279371546446c"
          }
        },
        "d5ed18e73636416fb193c22c04c7c1ef": {
          "model_module": "@jupyter-widgets/controls",
          "model_name": "HTMLModel",
          "state": {
            "_view_name": "HTMLView",
            "style": "IPY_MODEL_925b460e2f8b4a15bee7778e5bee96ed",
            "_dom_classes": [],
            "description": "",
            "_model_name": "HTMLModel",
            "placeholder": "​",
            "_view_module": "@jupyter-widgets/controls",
            "_model_module_version": "1.5.0",
            "value": " 38679/50000 [00:00&lt;10:45, 17.54 examples/s]",
            "_view_count": null,
            "_view_module_version": "1.5.0",
            "description_tooltip": null,
            "_model_module": "@jupyter-widgets/controls",
            "layout": "IPY_MODEL_7bb80b7860e0468ba0dc887f38763dd9"
          }
        },
        "58fcb4603b2a44d09cf77000a6d2d70b": {
          "model_module": "@jupyter-widgets/controls",
          "model_name": "ProgressStyleModel",
          "state": {
            "_view_name": "StyleView",
            "_model_name": "ProgressStyleModel",
            "description_width": "initial",
            "_view_module": "@jupyter-widgets/base",
            "_model_module_version": "1.5.0",
            "_view_count": null,
            "_view_module_version": "1.2.0",
            "bar_color": null,
            "_model_module": "@jupyter-widgets/controls"
          }
        },
        "1264bd71453e494f942279371546446c": {
          "model_module": "@jupyter-widgets/base",
          "model_name": "LayoutModel",
          "state": {
            "_view_name": "LayoutView",
            "grid_template_rows": null,
            "right": null,
            "justify_content": null,
            "_view_module": "@jupyter-widgets/base",
            "overflow": null,
            "_model_module_version": "1.2.0",
            "_view_count": null,
            "flex_flow": null,
            "width": null,
            "min_width": null,
            "border": null,
            "align_items": null,
            "bottom": null,
            "_model_module": "@jupyter-widgets/base",
            "top": null,
            "grid_column": null,
            "overflow_y": null,
            "overflow_x": null,
            "grid_auto_flow": null,
            "grid_area": null,
            "grid_template_columns": null,
            "flex": null,
            "_model_name": "LayoutModel",
            "justify_items": null,
            "grid_row": null,
            "max_height": null,
            "align_content": null,
            "visibility": null,
            "align_self": null,
            "height": null,
            "min_height": null,
            "padding": null,
            "grid_auto_rows": null,
            "grid_gap": null,
            "max_width": null,
            "order": null,
            "_view_module_version": "1.2.0",
            "grid_template_areas": null,
            "object_position": null,
            "object_fit": null,
            "grid_auto_columns": null,
            "margin": null,
            "display": null,
            "left": null
          }
        },
        "925b460e2f8b4a15bee7778e5bee96ed": {
          "model_module": "@jupyter-widgets/controls",
          "model_name": "DescriptionStyleModel",
          "state": {
            "_view_name": "StyleView",
            "_model_name": "DescriptionStyleModel",
            "description_width": "",
            "_view_module": "@jupyter-widgets/base",
            "_model_module_version": "1.5.0",
            "_view_count": null,
            "_view_module_version": "1.2.0",
            "_model_module": "@jupyter-widgets/controls"
          }
        },
        "7bb80b7860e0468ba0dc887f38763dd9": {
          "model_module": "@jupyter-widgets/base",
          "model_name": "LayoutModel",
          "state": {
            "_view_name": "LayoutView",
            "grid_template_rows": null,
            "right": null,
            "justify_content": null,
            "_view_module": "@jupyter-widgets/base",
            "overflow": null,
            "_model_module_version": "1.2.0",
            "_view_count": null,
            "flex_flow": null,
            "width": null,
            "min_width": null,
            "border": null,
            "align_items": null,
            "bottom": null,
            "_model_module": "@jupyter-widgets/base",
            "top": null,
            "grid_column": null,
            "overflow_y": null,
            "overflow_x": null,
            "grid_auto_flow": null,
            "grid_area": null,
            "grid_template_columns": null,
            "flex": null,
            "_model_name": "LayoutModel",
            "justify_items": null,
            "grid_row": null,
            "max_height": null,
            "align_content": null,
            "visibility": null,
            "align_self": null,
            "height": null,
            "min_height": null,
            "padding": null,
            "grid_auto_rows": null,
            "grid_gap": null,
            "max_width": null,
            "order": null,
            "_view_module_version": "1.2.0",
            "grid_template_areas": null,
            "object_position": null,
            "object_fit": null,
            "grid_auto_columns": null,
            "margin": null,
            "display": null,
            "left": null
          }
        }
      }
    }
  },
  "cells": [
    {
      "cell_type": "markdown",
      "metadata": {
        "id": "view-in-github",
        "colab_type": "text"
      },
      "source": [
        "<a href=\"https://colab.research.google.com/github/EdwardPlata/66daysofdata_2021/blob/main/intro_to_nlp_workshop.ipynb\" target=\"_parent\"><img src=\"https://colab.research.google.com/assets/colab-badge.svg\" alt=\"Open In Colab\"/></a>"
      ]
    },
    {
      "cell_type": "markdown",
      "metadata": {
        "id": "KHbu5OrA4u6B"
      },
      "source": [
        "# Welcome to Google Colab\n",
        "\n",
        "Colab is essentially Google's way of hosting a [jupyter notebook](https://jupyter.org/). A very popular tool to use as a data scientist!\n",
        "\n",
        "It allows us to write code, documentation, and output visuals all in one place.\n",
        "\n",
        "To be able to and edit the code in this workshop. Please make a copy for yourself\n",
        "\n",
        "`file > save a copy in drive`\n",
        "\n",
        "This should open a new tab with your own copy of this notebook. It can take a minute to load.\n",
        "\n",
        "Colab comes with a lot of great data science libraries pre-installed. \n",
        "\n",
        "Colab also gives you some options for running complicated computations such as training deep learning model. To see access those options:\n",
        "\n",
        "`Runtime > change runtime type` Select `GPU`, `TPU`, or `None`\n",
        "\n",
        "We don't need to change anything for this workshop, but its a great resource if you start learning deep learning and don't have a powerful GPU at home. "
      ]
    },
    {
      "cell_type": "markdown",
      "metadata": {
        "id": "tg_lfi-f468Q"
      },
      "source": [
        "# Introduction to NLP"
      ]
    },
    {
      "cell_type": "markdown",
      "metadata": {
        "id": "UfAuwcU3vPVj"
      },
      "source": [
        "# What is NLP?\n",
        "\n",
        "Natural Language Processing is the field of leveraging computers to \n",
        "understand, analyze, manipulate, and even generate human language."
      ]
    },
    {
      "cell_type": "markdown",
      "metadata": {
        "id": "11tVxc21vX3I"
      },
      "source": [
        "## Why do we need NLP?\n",
        "\n",
        "> We can harness the untapped potential of unstructured text. \n",
        "\n",
        "> Whereas traditional databases and datasets contain highly structured data in row/columnar format, text is highly irregular and traditional approaches would not\n",
        "\n",
        "\n",
        "\n",
        "## High-Level Capabilities:\n",
        "\n",
        "*   Content Categorization\n",
        "*   Document Summarization\n",
        "*   Machine Translation\n",
        "*   Sentiment Analysis\n",
        "*   Speech-to-text and Text-to-speech\n",
        "*   Topic Modeling\n"
      ]
    },
    {
      "cell_type": "markdown",
      "metadata": {
        "id": "3I4ORUPexHTV"
      },
      "source": [
        "## How do we prepare the text for processing?\n",
        "\n",
        "Steps of text cleaning:\n",
        "\n",
        "1.   Acquire the text\n",
        "2.   Remove punctuation\n",
        "3.   Tokenize\n",
        "4.   Remove stopwords\n",
        "5.   Stemming or Lemmatization\n",
        "\n",
        "After the text is clean we can follow up by vectorizing the data:\n",
        "1.   Bag-of-words\n",
        "2.   TF-IDF\n"
      ]
    },
    {
      "cell_type": "markdown",
      "metadata": {
        "id": "4U1xZsLgyAiN"
      },
      "source": [
        "## We can walk through some simple examples to start\n",
        "\n",
        "We'll use an example sentence to then take through the text cleaning and vectorization process.\n",
        "\n",
        "Example:\n",
        "\n",
        "> \"Data science is an inter-disciplinary field that uses scientific methods, processes, algorithms and systems to extract knowledge and insights from many structural and unstructured data.[1][2] Data science is related to data mining, machine learning and big data.\"\n"
      ]
    },
    {
      "cell_type": "code",
      "metadata": {
        "colab": {
          "base_uri": "https://localhost:8080/"
        },
        "id": "YHBRppjpmLt4",
        "outputId": "7cb54f01-ddde-4d0b-acbb-ddf3d3e0b1a9"
      },
      "source": [
        "print(\"Hello world\")"
      ],
      "execution_count": 23,
      "outputs": [
        {
          "output_type": "stream",
          "text": [
            "Hello world\n"
          ],
          "name": "stdout"
        }
      ]
    },
    {
      "cell_type": "code",
      "metadata": {
        "id": "maq09DMNmZmR"
      },
      "source": [
        ""
      ],
      "execution_count": 23,
      "outputs": []
    },
    {
      "cell_type": "markdown",
      "metadata": {
        "id": "2F47xA99maBL"
      },
      "source": [
        "# Heading"
      ]
    },
    {
      "cell_type": "code",
      "metadata": {
        "id": "f1AlBxINvO84"
      },
      "source": [
        "example = \"Data science is an inter-disciplinary field that uses scientific methods, processes, algorithms and systems to extract knowledge and insights from many structural and unstructured data.[1][2] Data science is related to data mining, machine learning and big data.\"\n",
        "\n",
        "# lowercase it all\n",
        "lower = example.lower()"
      ],
      "execution_count": 24,
      "outputs": []
    },
    {
      "cell_type": "code",
      "metadata": {
        "colab": {
          "base_uri": "https://localhost:8080/"
        },
        "id": "yas6JEo3oE5s",
        "outputId": "15b674fc-d601-4bd9-8905-f77d48aad07b"
      },
      "source": [
        "print(lower)"
      ],
      "execution_count": 25,
      "outputs": [
        {
          "output_type": "stream",
          "text": [
            "data science is an inter-disciplinary field that uses scientific methods, processes, algorithms and systems to extract knowledge and insights from many structural and unstructured data.[1][2] data science is related to data mining, machine learning and big data.\n"
          ],
          "name": "stdout"
        }
      ]
    },
    {
      "cell_type": "markdown",
      "metadata": {
        "id": "_TQNtBZqmhKk"
      },
      "source": [
        "What is NLP?\n",
        "\n",
        "1. Used for sentiment analysis \n",
        "2. Subfield of AI\n",
        "3. Language convertion\n",
        "4.Using computer to simulate human language (BERT)\n",
        "5. Harnest the untapped potential of human text\n",
        "6. 90% of the data is unstrsuctured and mostly text\n",
        "7. Highly irregular and older method smay not work.\n",
        "8. For news articles we can check what it belongs to? Sports, Weather, Finances etc\n",
        "9. Even summarice chapters in a book\n",
        "10. Machine translation\n",
        "11. Not everything has a topic so labeling may still be difficult"
      ]
    },
    {
      "cell_type": "markdown",
      "metadata": {
        "id": "IyBzV3Se95Eb"
      },
      "source": [
        "Regular Expressions are a powerful way to manipulate text. [Here](https://www.dataquest.io/blog/regex-cheatsheet/) is an additional resource on some of the most common uses."
      ]
    },
    {
      "cell_type": "code",
      "metadata": {
        "colab": {
          "base_uri": "https://localhost:8080/"
        },
        "id": "h4Htwks-yr47",
        "outputId": "0d88155f-2697-4607-e0a6-bb77327149c3"
      },
      "source": [
        "# We can use the re library to create regular expressions to parse text\n",
        "import re\n",
        "import string\n",
        "\n",
        "# string.punctuation contains most traditional punctuation marks\n",
        "print(string.punctuation)\n",
        "pattern = r\"[{}]\".format(string.punctuation)"
      ],
      "execution_count": 26,
      "outputs": [
        {
          "output_type": "stream",
          "text": [
            "!\"#$%&'()*+,-./:;<=>?@[\\]^_`{|}~\n"
          ],
          "name": "stdout"
        }
      ]
    },
    {
      "cell_type": "code",
      "metadata": {
        "colab": {
          "base_uri": "https://localhost:8080/"
        },
        "id": "z5OEgBcyzHYx",
        "outputId": "ead4b346-fcaf-4979-9618-81e1e2f90269"
      },
      "source": [
        "no_punctuation = re.sub(pattern, \" \", lower)\n",
        "print(no_punctuation)"
      ],
      "execution_count": 27,
      "outputs": [
        {
          "output_type": "stream",
          "text": [
            "data science is an inter disciplinary field that uses scientific methods  processes  algorithms and systems to extract knowledge and insights from many structural and unstructured data  1  2  data science is related to data mining  machine learning and big data \n"
          ],
          "name": "stdout"
        }
      ]
    },
    {
      "cell_type": "code",
      "metadata": {
        "colab": {
          "base_uri": "https://localhost:8080/"
        },
        "id": "S1H18TcdGNoP",
        "outputId": "518a8c1f-d55c-435a-f57a-442f316e4de4"
      },
      "source": [
        "no_nums = re.sub(r\"[\\d+]\", \" \", no_punctuation)\n",
        "\n",
        "print(no_nums)"
      ],
      "execution_count": 28,
      "outputs": [
        {
          "output_type": "stream",
          "text": [
            "data science is an inter disciplinary field that uses scientific methods  processes  algorithms and systems to extract knowledge and insights from many structural and unstructured data        data science is related to data mining  machine learning and big data \n"
          ],
          "name": "stdout"
        }
      ]
    },
    {
      "cell_type": "code",
      "metadata": {
        "colab": {
          "base_uri": "https://localhost:8080/"
        },
        "id": "_N8ILNBe2xtK",
        "outputId": "6f7c52ae-0c48-420c-84ae-18205589c603"
      },
      "source": [
        "# Next step is to tokenize, or split the data into individual chunks\n",
        "tokens = no_nums.split(' ')\n",
        "\n",
        "# Now let's inspect it\n",
        "tokens[0:20]"
      ],
      "execution_count": 29,
      "outputs": [
        {
          "output_type": "execute_result",
          "data": {
            "text/plain": [
              "['data',\n",
              " 'science',\n",
              " 'is',\n",
              " 'an',\n",
              " 'inter',\n",
              " 'disciplinary',\n",
              " 'field',\n",
              " 'that',\n",
              " 'uses',\n",
              " 'scientific',\n",
              " 'methods',\n",
              " '',\n",
              " 'processes',\n",
              " '',\n",
              " 'algorithms',\n",
              " 'and',\n",
              " 'systems',\n",
              " 'to',\n",
              " 'extract',\n",
              " 'knowledge']"
            ]
          },
          "metadata": {
            "tags": []
          },
          "execution_count": 29
        }
      ]
    },
    {
      "cell_type": "code",
      "metadata": {
        "id": "d1FX4e9DGAOY"
      },
      "source": [
        "# remove the blanks\n",
        "no_blanks = []\n",
        "\n",
        "for token in tokens:\n",
        "  if token != '':\n",
        "    no_blanks.append(token)"
      ],
      "execution_count": 30,
      "outputs": []
    },
    {
      "cell_type": "code",
      "metadata": {
        "colab": {
          "base_uri": "https://localhost:8080/"
        },
        "id": "qrBGac00G8sn",
        "outputId": "9e2dbea0-862b-47d3-f716-a9a4da4ba56f"
      },
      "source": [
        "no_blanks[0:20]"
      ],
      "execution_count": 31,
      "outputs": [
        {
          "output_type": "execute_result",
          "data": {
            "text/plain": [
              "['data',\n",
              " 'science',\n",
              " 'is',\n",
              " 'an',\n",
              " 'inter',\n",
              " 'disciplinary',\n",
              " 'field',\n",
              " 'that',\n",
              " 'uses',\n",
              " 'scientific',\n",
              " 'methods',\n",
              " 'processes',\n",
              " 'algorithms',\n",
              " 'and',\n",
              " 'systems',\n",
              " 'to',\n",
              " 'extract',\n",
              " 'knowledge',\n",
              " 'and',\n",
              " 'insights']"
            ]
          },
          "metadata": {
            "tags": []
          },
          "execution_count": 31
        }
      ]
    },
    {
      "cell_type": "code",
      "metadata": {
        "colab": {
          "base_uri": "https://localhost:8080/"
        },
        "id": "gA3IzM7-3tP3",
        "outputId": "48eccccc-9b1e-4b41-ff1a-ed5616f42c3f"
      },
      "source": [
        "# We have to download the stopwords prior to use with NLTK (if it is the first\n",
        "# time that you've done this on a new computer)\n",
        "import nltk\n",
        "nltk.download('stopwords')\n",
        "\n",
        "# So not we can move onto stopword removal\n",
        "from nltk.corpus import stopwords\n",
        "\n",
        "# What do the stopwords look like?\n",
        "print(stopwords.words('english')[0:10])"
      ],
      "execution_count": 32,
      "outputs": [
        {
          "output_type": "stream",
          "text": [
            "[nltk_data] Downloading package stopwords to /root/nltk_data...\n",
            "[nltk_data]   Package stopwords is already up-to-date!\n",
            "['i', 'me', 'my', 'myself', 'we', 'our', 'ours', 'ourselves', 'you', \"you're\"]\n"
          ],
          "name": "stdout"
        }
      ]
    },
    {
      "cell_type": "code",
      "metadata": {
        "colab": {
          "base_uri": "https://localhost:8080/"
        },
        "id": "3HDM5OAkE7sh",
        "outputId": "cfe5d380-1361-4590-f683-6d87b342f042"
      },
      "source": [
        "# We'll remove the punctuation in stopwords as well\n",
        "stops_nopunct = [re.sub(pattern, \"\", stop) for stop in stopwords.words('english')]\n",
        "\n",
        "print(stops_nopunct[0:10])"
      ],
      "execution_count": 33,
      "outputs": [
        {
          "output_type": "stream",
          "text": [
            "['i', 'me', 'my', 'myself', 'we', 'our', 'ours', 'ourselves', 'you', 'youre']\n"
          ],
          "name": "stdout"
        }
      ]
    },
    {
      "cell_type": "code",
      "metadata": {
        "id": "u6lAe1sA3slm"
      },
      "source": [
        "def remove_stopwords(words):\n",
        "  no_stops = []\n",
        "  for word in words:\n",
        "    if word not in stops_nopunct:\n",
        "      no_stops.append(word)\n",
        "  return no_stops"
      ],
      "execution_count": 34,
      "outputs": []
    },
    {
      "cell_type": "code",
      "metadata": {
        "colab": {
          "base_uri": "https://localhost:8080/"
        },
        "id": "q4L_gSInFln-",
        "outputId": "d0f97552-82f4-443c-9b58-25e2a4158b96"
      },
      "source": [
        "no_stops = remove_stopwords(no_blanks)\n",
        "no_stops"
      ],
      "execution_count": 35,
      "outputs": [
        {
          "output_type": "execute_result",
          "data": {
            "text/plain": [
              "['data',\n",
              " 'science',\n",
              " 'inter',\n",
              " 'disciplinary',\n",
              " 'field',\n",
              " 'uses',\n",
              " 'scientific',\n",
              " 'methods',\n",
              " 'processes',\n",
              " 'algorithms',\n",
              " 'systems',\n",
              " 'extract',\n",
              " 'knowledge',\n",
              " 'insights',\n",
              " 'many',\n",
              " 'structural',\n",
              " 'unstructured',\n",
              " 'data',\n",
              " 'data',\n",
              " 'science',\n",
              " 'related',\n",
              " 'data',\n",
              " 'mining',\n",
              " 'machine',\n",
              " 'learning',\n",
              " 'big',\n",
              " 'data']"
            ]
          },
          "metadata": {
            "tags": []
          },
          "execution_count": 35
        }
      ]
    },
    {
      "cell_type": "markdown",
      "metadata": {
        "id": "bYpcej8GBXzo"
      },
      "source": [
        "Additional Information on [PorterStemmer](https://tartarus.org/martin/PorterStemmer/) and [SnowballStemmer](http://snowball.tartarus.org/algorithms/english/stemmer.html)\n",
        "\n",
        "---\n",
        "\n"
      ]
    },
    {
      "cell_type": "code",
      "metadata": {
        "colab": {
          "base_uri": "https://localhost:8080/"
        },
        "id": "KQBXcB5wHUdJ",
        "outputId": "7de91e5f-8c6f-4c96-f8da-d5cf54e11ff1"
      },
      "source": [
        "# Must also download WordNet on NLTK (first time)\n",
        "nltk.download('wordnet')\n",
        "\n",
        "# Stemming vs Lemmatization\n",
        "from nltk.stem import PorterStemmer, LancasterStemmer, SnowballStemmer\n",
        "from nltk.stem import WordNetLemmatizer\n",
        "\n",
        "# Stemmers\n",
        "ps = PorterStemmer()\n",
        "ls = LancasterStemmer()\n",
        "ss = SnowballStemmer('english')\n",
        "\n",
        "# Lemmatizer\n",
        "wn = WordNetLemmatizer()"
      ],
      "execution_count": 36,
      "outputs": [
        {
          "output_type": "stream",
          "text": [
            "[nltk_data] Downloading package wordnet to /root/nltk_data...\n",
            "[nltk_data]   Unzipping corpora/wordnet.zip.\n"
          ],
          "name": "stdout"
        }
      ]
    },
    {
      "cell_type": "code",
      "metadata": {
        "colab": {
          "base_uri": "https://localhost:8080/"
        },
        "id": "QuY0_B7_KLrF",
        "outputId": "44a351c1-6b13-4ece-c193-09b92ccde5ee"
      },
      "source": [
        "# Let's try a word that has different tenses\n",
        "test_words = ['waited', 'waits', 'waiting']\n",
        "\n",
        "for word in test_words:\n",
        "  print(ps.stem(word), ls.stem(word), ss.stem(word), wn.lemmatize(word))"
      ],
      "execution_count": 37,
      "outputs": [
        {
          "output_type": "stream",
          "text": [
            "wait wait wait waited\n",
            "wait wait wait wait\n",
            "wait wait wait waiting\n"
          ],
          "name": "stdout"
        }
      ]
    },
    {
      "cell_type": "markdown",
      "metadata": {
        "id": "7miTinmFJVGV"
      },
      "source": [
        "Try each type of stemmer and lemmatizer on any words that you can think of and observe how they change!"
      ]
    },
    {
      "cell_type": "code",
      "metadata": {
        "id": "qgWNDtk3JUyF",
        "colab": {
          "base_uri": "https://localhost:8080/"
        },
        "outputId": "19d348f3-ab88-4173-ba1b-e7431b4a2d42"
      },
      "source": [
        "# Your code here\n",
        "# Let's try a word that has different tenses\n",
        "test_words = ['lemmatizer', 'stemmer']\n",
        "\n",
        "for word in test_words:\n",
        "  print(ps.stem(word), ls.stem(word), ss.stem(word), wn.lemmatize(word))"
      ],
      "execution_count": 38,
      "outputs": [
        {
          "output_type": "stream",
          "text": [
            "lemmat lem lemmat lemmatizer\n",
            "stemmer stem stemmer stemmer\n"
          ],
          "name": "stdout"
        }
      ]
    },
    {
      "cell_type": "code",
      "metadata": {
        "colab": {
          "base_uri": "https://localhost:8080/",
          "height": 359
        },
        "id": "VPVwEA5wHToa",
        "outputId": "2d18f40c-39fc-4782-9363-334b6c884207"
      },
      "source": [
        "import pandas as pd\n",
        "\n",
        "# We'll create an empty list to store the outputs so we can compare them easily\n",
        "diff_forms = []\n",
        "\n",
        "# Process every word with every type of stemmer and also lemma\n",
        "for word in no_blanks:\n",
        "  diff_forms.append([ps.stem(word), ls.stem(word), ss.stem(word), \n",
        "                          wn.lemmatize(word)])\n",
        "\n",
        "processer_names = ['Porter', 'Lancaster', 'Snowball', 'WordNet_Lemma']\n",
        "\n",
        "diff_stems_df = pd.DataFrame(diff_forms, columns=processer_names)\n",
        "diff_stems_df.head(10)"
      ],
      "execution_count": 39,
      "outputs": [
        {
          "output_type": "execute_result",
          "data": {
            "text/html": [
              "<div>\n",
              "<style scoped>\n",
              "    .dataframe tbody tr th:only-of-type {\n",
              "        vertical-align: middle;\n",
              "    }\n",
              "\n",
              "    .dataframe tbody tr th {\n",
              "        vertical-align: top;\n",
              "    }\n",
              "\n",
              "    .dataframe thead th {\n",
              "        text-align: right;\n",
              "    }\n",
              "</style>\n",
              "<table border=\"1\" class=\"dataframe\">\n",
              "  <thead>\n",
              "    <tr style=\"text-align: right;\">\n",
              "      <th></th>\n",
              "      <th>Porter</th>\n",
              "      <th>Lancaster</th>\n",
              "      <th>Snowball</th>\n",
              "      <th>WordNet_Lemma</th>\n",
              "    </tr>\n",
              "  </thead>\n",
              "  <tbody>\n",
              "    <tr>\n",
              "      <th>0</th>\n",
              "      <td>data</td>\n",
              "      <td>dat</td>\n",
              "      <td>data</td>\n",
              "      <td>data</td>\n",
              "    </tr>\n",
              "    <tr>\n",
              "      <th>1</th>\n",
              "      <td>scienc</td>\n",
              "      <td>sci</td>\n",
              "      <td>scienc</td>\n",
              "      <td>science</td>\n",
              "    </tr>\n",
              "    <tr>\n",
              "      <th>2</th>\n",
              "      <td>is</td>\n",
              "      <td>is</td>\n",
              "      <td>is</td>\n",
              "      <td>is</td>\n",
              "    </tr>\n",
              "    <tr>\n",
              "      <th>3</th>\n",
              "      <td>an</td>\n",
              "      <td>an</td>\n",
              "      <td>an</td>\n",
              "      <td>an</td>\n",
              "    </tr>\n",
              "    <tr>\n",
              "      <th>4</th>\n",
              "      <td>inter</td>\n",
              "      <td>int</td>\n",
              "      <td>inter</td>\n",
              "      <td>inter</td>\n",
              "    </tr>\n",
              "    <tr>\n",
              "      <th>5</th>\n",
              "      <td>disciplinari</td>\n",
              "      <td>disciplin</td>\n",
              "      <td>disciplinari</td>\n",
              "      <td>disciplinary</td>\n",
              "    </tr>\n",
              "    <tr>\n",
              "      <th>6</th>\n",
              "      <td>field</td>\n",
              "      <td>field</td>\n",
              "      <td>field</td>\n",
              "      <td>field</td>\n",
              "    </tr>\n",
              "    <tr>\n",
              "      <th>7</th>\n",
              "      <td>that</td>\n",
              "      <td>that</td>\n",
              "      <td>that</td>\n",
              "      <td>that</td>\n",
              "    </tr>\n",
              "    <tr>\n",
              "      <th>8</th>\n",
              "      <td>use</td>\n",
              "      <td>us</td>\n",
              "      <td>use</td>\n",
              "      <td>us</td>\n",
              "    </tr>\n",
              "    <tr>\n",
              "      <th>9</th>\n",
              "      <td>scientif</td>\n",
              "      <td>sci</td>\n",
              "      <td>scientif</td>\n",
              "      <td>scientific</td>\n",
              "    </tr>\n",
              "  </tbody>\n",
              "</table>\n",
              "</div>"
            ],
            "text/plain": [
              "         Porter  Lancaster      Snowball WordNet_Lemma\n",
              "0          data        dat          data          data\n",
              "1        scienc        sci        scienc       science\n",
              "2            is         is            is            is\n",
              "3            an         an            an            an\n",
              "4         inter        int         inter         inter\n",
              "5  disciplinari  disciplin  disciplinari  disciplinary\n",
              "6         field      field         field         field\n",
              "7          that       that          that          that\n",
              "8           use         us           use            us\n",
              "9      scientif        sci      scientif    scientific"
            ]
          },
          "metadata": {
            "tags": []
          },
          "execution_count": 39
        }
      ]
    },
    {
      "cell_type": "markdown",
      "metadata": {
        "id": "jIn-2u-4Bvsz"
      },
      "source": [
        "Resource on [List Comprehensions](https://docs.python.org/3/tutorial/datastructures.html#list-comprehensions)"
      ]
    },
    {
      "cell_type": "code",
      "metadata": {
        "id": "9gHNGizDLza9"
      },
      "source": [
        "# The Vectorizers work better with string forms, we rejoin the words\n",
        "stemmed_text = [' '.join([ps.stem(word) for word in no_stops])]"
      ],
      "execution_count": 40,
      "outputs": []
    },
    {
      "cell_type": "code",
      "metadata": {
        "colab": {
          "base_uri": "https://localhost:8080/"
        },
        "id": "FXfNpE2ML6I5",
        "outputId": "d421cb61-f513-47ba-c864-7c1b6ae6ba01"
      },
      "source": [
        "stemmed_text"
      ],
      "execution_count": 41,
      "outputs": [
        {
          "output_type": "execute_result",
          "data": {
            "text/plain": [
              "['data scienc inter disciplinari field use scientif method process algorithm system extract knowledg insight mani structur unstructur data data scienc relat data mine machin learn big data']"
            ]
          },
          "metadata": {
            "tags": []
          },
          "execution_count": 41
        }
      ]
    },
    {
      "cell_type": "code",
      "metadata": {
        "id": "p5cREK1IIWgc"
      },
      "source": [
        "# Now we can move to vectorize the processed text\n",
        "\n",
        "# Necessary imports\n",
        "from sklearn.feature_extraction.text import CountVectorizer, TfidfVectorizer\n",
        "\n",
        "cv = CountVectorizer()\n",
        "tfidf = TfidfVectorizer()"
      ],
      "execution_count": 42,
      "outputs": []
    },
    {
      "cell_type": "code",
      "metadata": {
        "colab": {
          "base_uri": "https://localhost:8080/"
        },
        "id": "cfJO9HSwLPiL",
        "outputId": "826c674b-ef27-40c3-ecf3-352c1d08f55a"
      },
      "source": [
        "bow = cv.fit_transform(stemmed_text)\n",
        "bow"
      ],
      "execution_count": 43,
      "outputs": [
        {
          "output_type": "execute_result",
          "data": {
            "text/plain": [
              "<1x22 sparse matrix of type '<class 'numpy.int64'>'\n",
              "\twith 22 stored elements in Compressed Sparse Row format>"
            ]
          },
          "metadata": {
            "tags": []
          },
          "execution_count": 43
        }
      ]
    },
    {
      "cell_type": "markdown",
      "metadata": {
        "id": "OH1gBmymMv8F"
      },
      "source": [
        "But what does this output look like?"
      ]
    },
    {
      "cell_type": "code",
      "metadata": {
        "colab": {
          "base_uri": "https://localhost:8080/"
        },
        "id": "TLIykrrTMuZ_",
        "outputId": "e3c37058-597c-4d33-8521-f6583f8c65a1"
      },
      "source": [
        "print(bow.todense())"
      ],
      "execution_count": 44,
      "outputs": [
        {
          "output_type": "stream",
          "text": [
            "[[1 1 5 1 1 1 1 1 1 1 1 1 1 1 1 1 2 1 1 1 1 1]]\n"
          ],
          "name": "stdout"
        }
      ]
    },
    {
      "cell_type": "code",
      "metadata": {
        "colab": {
          "base_uri": "https://localhost:8080/"
        },
        "id": "tVtAUQ42MYsP",
        "outputId": "ec407194-c1fc-45c0-a011-69132da2dbcf"
      },
      "source": [
        "print(cv.get_feature_names())"
      ],
      "execution_count": 45,
      "outputs": [
        {
          "output_type": "stream",
          "text": [
            "['algorithm', 'big', 'data', 'disciplinari', 'extract', 'field', 'insight', 'inter', 'knowledg', 'learn', 'machin', 'mani', 'method', 'mine', 'process', 'relat', 'scienc', 'scientif', 'structur', 'system', 'unstructur', 'use']\n"
          ],
          "name": "stdout"
        }
      ]
    },
    {
      "cell_type": "code",
      "metadata": {
        "colab": {
          "base_uri": "https://localhost:8080/",
          "height": 100
        },
        "id": "zHQvZe2gMK1f",
        "outputId": "83793156-3231-4cd3-c21e-67ae5d41551e"
      },
      "source": [
        "pd.DataFrame(bow.todense(), columns=cv.get_feature_names())"
      ],
      "execution_count": 46,
      "outputs": [
        {
          "output_type": "execute_result",
          "data": {
            "text/html": [
              "<div>\n",
              "<style scoped>\n",
              "    .dataframe tbody tr th:only-of-type {\n",
              "        vertical-align: middle;\n",
              "    }\n",
              "\n",
              "    .dataframe tbody tr th {\n",
              "        vertical-align: top;\n",
              "    }\n",
              "\n",
              "    .dataframe thead th {\n",
              "        text-align: right;\n",
              "    }\n",
              "</style>\n",
              "<table border=\"1\" class=\"dataframe\">\n",
              "  <thead>\n",
              "    <tr style=\"text-align: right;\">\n",
              "      <th></th>\n",
              "      <th>algorithm</th>\n",
              "      <th>big</th>\n",
              "      <th>data</th>\n",
              "      <th>disciplinari</th>\n",
              "      <th>extract</th>\n",
              "      <th>field</th>\n",
              "      <th>insight</th>\n",
              "      <th>inter</th>\n",
              "      <th>knowledg</th>\n",
              "      <th>learn</th>\n",
              "      <th>machin</th>\n",
              "      <th>mani</th>\n",
              "      <th>method</th>\n",
              "      <th>mine</th>\n",
              "      <th>process</th>\n",
              "      <th>relat</th>\n",
              "      <th>scienc</th>\n",
              "      <th>scientif</th>\n",
              "      <th>structur</th>\n",
              "      <th>system</th>\n",
              "      <th>unstructur</th>\n",
              "      <th>use</th>\n",
              "    </tr>\n",
              "  </thead>\n",
              "  <tbody>\n",
              "    <tr>\n",
              "      <th>0</th>\n",
              "      <td>1</td>\n",
              "      <td>1</td>\n",
              "      <td>5</td>\n",
              "      <td>1</td>\n",
              "      <td>1</td>\n",
              "      <td>1</td>\n",
              "      <td>1</td>\n",
              "      <td>1</td>\n",
              "      <td>1</td>\n",
              "      <td>1</td>\n",
              "      <td>1</td>\n",
              "      <td>1</td>\n",
              "      <td>1</td>\n",
              "      <td>1</td>\n",
              "      <td>1</td>\n",
              "      <td>1</td>\n",
              "      <td>2</td>\n",
              "      <td>1</td>\n",
              "      <td>1</td>\n",
              "      <td>1</td>\n",
              "      <td>1</td>\n",
              "      <td>1</td>\n",
              "    </tr>\n",
              "  </tbody>\n",
              "</table>\n",
              "</div>"
            ],
            "text/plain": [
              "   algorithm  big  data  disciplinari  ...  structur  system  unstructur  use\n",
              "0          1    1     5             1  ...         1       1           1    1\n",
              "\n",
              "[1 rows x 22 columns]"
            ]
          },
          "metadata": {
            "tags": []
          },
          "execution_count": 46
        }
      ]
    },
    {
      "cell_type": "markdown",
      "metadata": {
        "id": "0XLMRnXwNaH9"
      },
      "source": [
        "$tfidf(t, d, D) = tf(t,d) \\cdot idf(t,D)$"
      ]
    },
    {
      "cell_type": "code",
      "metadata": {
        "colab": {
          "base_uri": "https://localhost:8080/"
        },
        "id": "qrlXlNSdNLyp",
        "outputId": "d67f8ec6-bfdc-44b3-bc5d-d0966b8edfb9"
      },
      "source": [
        "tfidf_out = tfidf.fit_transform(stemmed_text)\n",
        "tfidf_out.toarray()"
      ],
      "execution_count": 47,
      "outputs": [
        {
          "output_type": "execute_result",
          "data": {
            "text/plain": [
              "array([[0.14285714, 0.14285714, 0.71428571, 0.14285714, 0.14285714,\n",
              "        0.14285714, 0.14285714, 0.14285714, 0.14285714, 0.14285714,\n",
              "        0.14285714, 0.14285714, 0.14285714, 0.14285714, 0.14285714,\n",
              "        0.14285714, 0.28571429, 0.14285714, 0.14285714, 0.14285714,\n",
              "        0.14285714, 0.14285714]])"
            ]
          },
          "metadata": {
            "tags": []
          },
          "execution_count": 47
        }
      ]
    },
    {
      "cell_type": "markdown",
      "metadata": {
        "id": "HxldEah_Ql9m"
      },
      "source": [
        "### Now for a real dataset"
      ]
    },
    {
      "cell_type": "code",
      "metadata": {
        "id": "1lZRBXnUsVhR"
      },
      "source": [
        "import tensorflow as tf\n",
        "import tensorflow_datasets as tfds"
      ],
      "execution_count": 48,
      "outputs": []
    },
    {
      "cell_type": "code",
      "metadata": {
        "id": "kXy7NqJFpIqq",
        "colab": {
          "base_uri": "https://localhost:8080/",
          "height": 367,
          "referenced_widgets": [
            "e4c43e045e2a458d8ddd41ae3434b183",
            "e2a04e7a088e41498147af98188ce252",
            "4e396ce57e0f4a33b6902a9f25f6a0bf",
            "eae900599df544cda5755766ce492024",
            "2b51b037a2704af5927d25a74257de2e",
            "89262e00a6cf4ede81574523085494b6",
            "c4d031b64a224137a4413cd4643e781a",
            "b4fb4f3ac6cd4516b696871451742556",
            "bb15c7f7357d433abf6d77e7a8e44f3a",
            "76ae7eb7a5744ef6a0e71f7041ae0867",
            "68c8090c2d9940d29b102eccfc24718c",
            "218331d417e44d92b4818f7322abf29a",
            "4f3bc754a2a0498b94b6500d887a99aa",
            "4794dfa43cbb4c2092d1a07d92447a2b",
            "655491dae8a04f7f8b7b8ecd5defad48",
            "2e45ade3d105444aa43be53af6660d46",
            "5acbd29f522a4292ba8dfdf0e4f77e60",
            "e78feb1f03624b80b92211a5d20a1ee7",
            "a5109e875d18459bac37f2c817ee322f",
            "0c8c46a625b94ddc9cc14825a7469153",
            "ac529702a0f24ecbb34ce644e23613bb",
            "54dc9fd467fb41e9bf280435d01eb21b",
            "92a959fdc6ed48f1ad115efd3540ea78",
            "f94956e15cde45dca8955e5855f6d238",
            "a3c758479ee84a918e7cb158fdd7c06d",
            "808a7530a7d947c687aa48ac74342bbc",
            "482df0efc7544e27b4457a6148a29488",
            "e56ec6ab5c374615bfcfd52cc53d30a4",
            "0e7b01cfbdf14d0ab0f0a0924dc63cbc",
            "c7b1d324bbd4423f88ca3d03a740c210",
            "cc8f9b3bc3894017ba6d166c326c47d3",
            "495b10c30e544b67af3f289bfe661f14",
            "732a637061734207b2a75b03d52a934b",
            "b0725453bc344662a9d536f58a420941",
            "53e2995b365d4e74b64e81c6bd5be831",
            "0e782de972784bff8a765ca813c553bd",
            "0e840561b7714d6a9eaaf8f9fb9d69d5",
            "025bd62c90704b7da055ba90326bc26b",
            "63446d561e8f462d9cc8549ee060358c",
            "f7c07b68b3a74c02ae72f4b528f01366",
            "e5d63d647a734602b0a7d5f93be3b0b5",
            "b215dffee58f4416b9d4706209c61af1",
            "effa16a4afc5402e80559bbee1e1a109",
            "b3810fc4507d44d9aab4a0ddedd14911",
            "19aea6d12aaa478fb1c3d03364cafcca",
            "89f7b8d2addc4e5cb825e8ba5fb50c91",
            "1910020e4d484c54be44a0399cf95bee",
            "d74f02add586473b9b3aaaf733d45a4e",
            "f4585f1b5ef945cda3d70437388a380c",
            "5967e72d390845feb88ab7b1a2515897",
            "1e436af93a934a81aec92ad63a9c4a1b",
            "874c50b7cbdc4383a950afde7ee77910",
            "69ce7ecde2ee432eab250d9cd2da6db0",
            "0df5b50e08dc4b1eb3b2d8c308314d1e",
            "731e5916db8c4f499b9b086689e993e3",
            "e958daa68f0a49da8d80672294f5fac6",
            "e7f8e07541aa4f558ae36b2cf34d556f",
            "202466d084cd414dbb3eaa11b208ea17",
            "e57332ff27024b388afd6d78235b316b",
            "d5ed18e73636416fb193c22c04c7c1ef",
            "58fcb4603b2a44d09cf77000a6d2d70b",
            "1264bd71453e494f942279371546446c",
            "925b460e2f8b4a15bee7778e5bee96ed",
            "7bb80b7860e0468ba0dc887f38763dd9"
          ]
        },
        "outputId": "cee5ea23-3a2b-436e-fbf1-c6776b74a8a2"
      },
      "source": [
        "# We'll load the IMDB Reviews dataset via Tensorflow's dataset library\n",
        "imdb = tfds.load('imdb_reviews', split='train', shuffle_files=True)"
      ],
      "execution_count": 49,
      "outputs": [
        {
          "output_type": "stream",
          "text": [
            "\u001b[1mDownloading and preparing dataset imdb_reviews/plain_text/1.0.0 (download: 80.23 MiB, generated: Unknown size, total: 80.23 MiB) to /root/tensorflow_datasets/imdb_reviews/plain_text/1.0.0...\u001b[0m\n"
          ],
          "name": "stdout"
        },
        {
          "output_type": "display_data",
          "data": {
            "application/vnd.jupyter.widget-view+json": {
              "model_id": "e4c43e045e2a458d8ddd41ae3434b183",
              "version_minor": 0,
              "version_major": 2
            },
            "text/plain": [
              "HBox(children=(FloatProgress(value=1.0, bar_style='info', description='Dl Completed...', max=1.0, style=Progre…"
            ]
          },
          "metadata": {
            "tags": []
          }
        },
        {
          "output_type": "display_data",
          "data": {
            "application/vnd.jupyter.widget-view+json": {
              "model_id": "bb15c7f7357d433abf6d77e7a8e44f3a",
              "version_minor": 0,
              "version_major": 2
            },
            "text/plain": [
              "HBox(children=(FloatProgress(value=1.0, bar_style='info', description='Dl Size...', max=1.0, style=ProgressSty…"
            ]
          },
          "metadata": {
            "tags": []
          }
        },
        {
          "output_type": "stream",
          "text": [
            "\n",
            "\n",
            "\n",
            "\n"
          ],
          "name": "stdout"
        },
        {
          "output_type": "display_data",
          "data": {
            "application/vnd.jupyter.widget-view+json": {
              "model_id": "5acbd29f522a4292ba8dfdf0e4f77e60",
              "version_minor": 0,
              "version_major": 2
            },
            "text/plain": [
              "HBox(children=(FloatProgress(value=1.0, bar_style='info', max=1.0), HTML(value='')))"
            ]
          },
          "metadata": {
            "tags": []
          }
        },
        {
          "output_type": "stream",
          "text": [
            "\rShuffling and writing examples to /root/tensorflow_datasets/imdb_reviews/plain_text/1.0.0.incompleteNR5HZY/imdb_reviews-train.tfrecord\n"
          ],
          "name": "stdout"
        },
        {
          "output_type": "display_data",
          "data": {
            "application/vnd.jupyter.widget-view+json": {
              "model_id": "a3c758479ee84a918e7cb158fdd7c06d",
              "version_minor": 0,
              "version_major": 2
            },
            "text/plain": [
              "HBox(children=(FloatProgress(value=0.0, max=25000.0), HTML(value='')))"
            ]
          },
          "metadata": {
            "tags": []
          }
        },
        {
          "output_type": "stream",
          "text": [
            "\r"
          ],
          "name": "stdout"
        },
        {
          "output_type": "display_data",
          "data": {
            "application/vnd.jupyter.widget-view+json": {
              "model_id": "732a637061734207b2a75b03d52a934b",
              "version_minor": 0,
              "version_major": 2
            },
            "text/plain": [
              "HBox(children=(FloatProgress(value=1.0, bar_style='info', max=1.0), HTML(value='')))"
            ]
          },
          "metadata": {
            "tags": []
          }
        },
        {
          "output_type": "stream",
          "text": [
            "\rShuffling and writing examples to /root/tensorflow_datasets/imdb_reviews/plain_text/1.0.0.incompleteNR5HZY/imdb_reviews-test.tfrecord\n"
          ],
          "name": "stdout"
        },
        {
          "output_type": "display_data",
          "data": {
            "application/vnd.jupyter.widget-view+json": {
              "model_id": "e5d63d647a734602b0a7d5f93be3b0b5",
              "version_minor": 0,
              "version_major": 2
            },
            "text/plain": [
              "HBox(children=(FloatProgress(value=0.0, max=25000.0), HTML(value='')))"
            ]
          },
          "metadata": {
            "tags": []
          }
        },
        {
          "output_type": "stream",
          "text": [
            "\r"
          ],
          "name": "stdout"
        },
        {
          "output_type": "display_data",
          "data": {
            "application/vnd.jupyter.widget-view+json": {
              "model_id": "f4585f1b5ef945cda3d70437388a380c",
              "version_minor": 0,
              "version_major": 2
            },
            "text/plain": [
              "HBox(children=(FloatProgress(value=1.0, bar_style='info', max=1.0), HTML(value='')))"
            ]
          },
          "metadata": {
            "tags": []
          }
        },
        {
          "output_type": "stream",
          "text": [
            "\rShuffling and writing examples to /root/tensorflow_datasets/imdb_reviews/plain_text/1.0.0.incompleteNR5HZY/imdb_reviews-unsupervised.tfrecord\n"
          ],
          "name": "stdout"
        },
        {
          "output_type": "display_data",
          "data": {
            "application/vnd.jupyter.widget-view+json": {
              "model_id": "e7f8e07541aa4f558ae36b2cf34d556f",
              "version_minor": 0,
              "version_major": 2
            },
            "text/plain": [
              "HBox(children=(FloatProgress(value=0.0, max=50000.0), HTML(value='')))"
            ]
          },
          "metadata": {
            "tags": []
          }
        },
        {
          "output_type": "stream",
          "text": [
            "WARNING:absl:Dataset is using deprecated text encoder API which will be removed soon. Please use the plain_text version of the dataset and migrate to `tensorflow_text`.\n"
          ],
          "name": "stderr"
        },
        {
          "output_type": "stream",
          "text": [
            "\u001b[1mDataset imdb_reviews downloaded and prepared to /root/tensorflow_datasets/imdb_reviews/plain_text/1.0.0. Subsequent calls will reuse this data.\u001b[0m\n",
            "\r"
          ],
          "name": "stdout"
        }
      ]
    },
    {
      "cell_type": "code",
      "metadata": {
        "id": "Y9u95cuesCPA"
      },
      "source": [
        "# This cell may take a moment to run...\n",
        "df = tfds.as_dataframe(imdb)"
      ],
      "execution_count": 50,
      "outputs": []
    },
    {
      "cell_type": "code",
      "metadata": {
        "id": "XqTvG-0PTD3c"
      },
      "source": [
        "df = pd.DataFrame(df)"
      ],
      "execution_count": 51,
      "outputs": []
    },
    {
      "cell_type": "code",
      "metadata": {
        "colab": {
          "base_uri": "https://localhost:8080/",
          "height": 204
        },
        "id": "9rxwGuJCTb_7",
        "outputId": "4cb32c03-00a7-4a81-bc6c-e9894b4fa731"
      },
      "source": [
        "df.head()"
      ],
      "execution_count": 52,
      "outputs": [
        {
          "output_type": "execute_result",
          "data": {
            "text/html": [
              "<div>\n",
              "<style scoped>\n",
              "    .dataframe tbody tr th:only-of-type {\n",
              "        vertical-align: middle;\n",
              "    }\n",
              "\n",
              "    .dataframe tbody tr th {\n",
              "        vertical-align: top;\n",
              "    }\n",
              "\n",
              "    .dataframe thead th {\n",
              "        text-align: right;\n",
              "    }\n",
              "</style>\n",
              "<table border=\"1\" class=\"dataframe\">\n",
              "  <thead>\n",
              "    <tr style=\"text-align: right;\">\n",
              "      <th></th>\n",
              "      <th>label</th>\n",
              "      <th>text</th>\n",
              "    </tr>\n",
              "  </thead>\n",
              "  <tbody>\n",
              "    <tr>\n",
              "      <th>0</th>\n",
              "      <td>0</td>\n",
              "      <td>b\"This was an absolutely terrible movie. Don't...</td>\n",
              "    </tr>\n",
              "    <tr>\n",
              "      <th>1</th>\n",
              "      <td>0</td>\n",
              "      <td>b'I have been known to fall asleep during film...</td>\n",
              "    </tr>\n",
              "    <tr>\n",
              "      <th>2</th>\n",
              "      <td>0</td>\n",
              "      <td>b'Mann photographs the Alberta Rocky Mountains...</td>\n",
              "    </tr>\n",
              "    <tr>\n",
              "      <th>3</th>\n",
              "      <td>1</td>\n",
              "      <td>b'This is the kind of film for a snowy Sunday ...</td>\n",
              "    </tr>\n",
              "    <tr>\n",
              "      <th>4</th>\n",
              "      <td>1</td>\n",
              "      <td>b'As others have mentioned, all the women that...</td>\n",
              "    </tr>\n",
              "  </tbody>\n",
              "</table>\n",
              "</div>"
            ],
            "text/plain": [
              "   label                                               text\n",
              "0      0  b\"This was an absolutely terrible movie. Don't...\n",
              "1      0  b'I have been known to fall asleep during film...\n",
              "2      0  b'Mann photographs the Alberta Rocky Mountains...\n",
              "3      1  b'This is the kind of film for a snowy Sunday ...\n",
              "4      1  b'As others have mentioned, all the women that..."
            ]
          },
          "metadata": {
            "tags": []
          },
          "execution_count": 52
        }
      ]
    },
    {
      "cell_type": "code",
      "metadata": {
        "id": "CjQqw-EktaDN"
      },
      "source": [
        "# We'll convert the text column to text from bytes\n",
        "df.text = df.text.apply(bytes.decode)"
      ],
      "execution_count": 53,
      "outputs": []
    },
    {
      "cell_type": "code",
      "metadata": {
        "colab": {
          "base_uri": "https://localhost:8080/"
        },
        "id": "vexL1PvBuYkB",
        "outputId": "a3aff5c3-4d22-4188-ff56-1e6b5cb2a021"
      },
      "source": [
        "# How many positive reviews vs negative reviews are there?\n",
        "df.label.value_counts()"
      ],
      "execution_count": 54,
      "outputs": [
        {
          "output_type": "execute_result",
          "data": {
            "text/plain": [
              "1    12500\n",
              "0    12500\n",
              "Name: label, dtype: int64"
            ]
          },
          "metadata": {
            "tags": []
          },
          "execution_count": 54
        }
      ]
    },
    {
      "cell_type": "code",
      "metadata": {
        "colab": {
          "base_uri": "https://localhost:8080/",
          "height": 265
        },
        "id": "EJX8BGrktcsy",
        "outputId": "997f62b5-d380-4fac-e3a6-3de87a05028a"
      },
      "source": [
        "import matplotlib.pyplot as plt\n",
        "import seaborn as sns\n",
        "\n",
        "df.label.plot(kind='hist');"
      ],
      "execution_count": 55,
      "outputs": [
        {
          "output_type": "display_data",
          "data": {
            "image/png": "[encoded data removed]",
            "text/plain": [
              "<Figure size 432x288 with 1 Axes>"
            ]
          },
          "metadata": {
            "tags": [],
            "needs_background": "light"
          }
        }
      ]
    },
    {
      "cell_type": "code",
      "metadata": {
        "colab": {
          "base_uri": "https://localhost:8080/",
          "height": 204
        },
        "id": "Zh8nnR5qS0VO",
        "outputId": "0a38700d-22bf-452b-beb6-204ace673816"
      },
      "source": [
        "df.head()"
      ],
      "execution_count": 56,
      "outputs": [
        {
          "output_type": "execute_result",
          "data": {
            "text/html": [
              "<div>\n",
              "<style scoped>\n",
              "    .dataframe tbody tr th:only-of-type {\n",
              "        vertical-align: middle;\n",
              "    }\n",
              "\n",
              "    .dataframe tbody tr th {\n",
              "        vertical-align: top;\n",
              "    }\n",
              "\n",
              "    .dataframe thead th {\n",
              "        text-align: right;\n",
              "    }\n",
              "</style>\n",
              "<table border=\"1\" class=\"dataframe\">\n",
              "  <thead>\n",
              "    <tr style=\"text-align: right;\">\n",
              "      <th></th>\n",
              "      <th>label</th>\n",
              "      <th>text</th>\n",
              "    </tr>\n",
              "  </thead>\n",
              "  <tbody>\n",
              "    <tr>\n",
              "      <th>0</th>\n",
              "      <td>0</td>\n",
              "      <td>This was an absolutely terrible movie. Don't b...</td>\n",
              "    </tr>\n",
              "    <tr>\n",
              "      <th>1</th>\n",
              "      <td>0</td>\n",
              "      <td>I have been known to fall asleep during films,...</td>\n",
              "    </tr>\n",
              "    <tr>\n",
              "      <th>2</th>\n",
              "      <td>0</td>\n",
              "      <td>Mann photographs the Alberta Rocky Mountains i...</td>\n",
              "    </tr>\n",
              "    <tr>\n",
              "      <th>3</th>\n",
              "      <td>1</td>\n",
              "      <td>This is the kind of film for a snowy Sunday af...</td>\n",
              "    </tr>\n",
              "    <tr>\n",
              "      <th>4</th>\n",
              "      <td>1</td>\n",
              "      <td>As others have mentioned, all the women that g...</td>\n",
              "    </tr>\n",
              "  </tbody>\n",
              "</table>\n",
              "</div>"
            ],
            "text/plain": [
              "   label                                               text\n",
              "0      0  This was an absolutely terrible movie. Don't b...\n",
              "1      0  I have been known to fall asleep during films,...\n",
              "2      0  Mann photographs the Alberta Rocky Mountains i...\n",
              "3      1  This is the kind of film for a snowy Sunday af...\n",
              "4      1  As others have mentioned, all the women that g..."
            ]
          },
          "metadata": {
            "tags": []
          },
          "execution_count": 56
        }
      ]
    },
    {
      "cell_type": "code",
      "metadata": {
        "colab": {
          "base_uri": "https://localhost:8080/"
        },
        "id": "eH9NyufQS8Gc",
        "outputId": "bf1b4ac9-a45c-4973-d9fb-cd43398381bc"
      },
      "source": [
        "type(df)"
      ],
      "execution_count": 57,
      "outputs": [
        {
          "output_type": "execute_result",
          "data": {
            "text/plain": [
              "pandas.core.frame.DataFrame"
            ]
          },
          "metadata": {
            "tags": []
          },
          "execution_count": 57
        }
      ]
    },
    {
      "cell_type": "code",
      "metadata": {
        "colab": {
          "base_uri": "https://localhost:8080/",
          "height": 120
        },
        "id": "ft-w7G9aqczd",
        "outputId": "060c7934-7572-4745-f152-f2d6cbf8c4f6"
      },
      "source": [
        "# What does an example review actually look like?\n",
        "df.text[0]"
      ],
      "execution_count": 58,
      "outputs": [
        {
          "output_type": "execute_result",
          "data": {
            "application/vnd.google.colaboratory.intrinsic+json": {
              "type": "string"
            },
            "text/plain": [
              "\"This was an absolutely terrible movie. Don't be lured in by Christopher Walken or Michael Ironside. Both are great actors, but this must simply be their worst role in history. Even their great acting could not redeem this movie's ridiculous storyline. This movie is an early nineties US propaganda piece. The most pathetic scenes were those when the Columbian rebels were making their cases for revolutions. Maria Conchita Alonso appeared phony, and her pseudo-love affair with Walken was nothing but a pathetic emotional plug in a movie that was devoid of any real meaning. I am disappointed that there are movies like this, ruining actor's like Christopher Walken's good name. I could barely sit through it.\""
            ]
          },
          "metadata": {
            "tags": []
          },
          "execution_count": 58
        }
      ]
    },
    {
      "cell_type": "code",
      "metadata": {
        "colab": {
          "base_uri": "https://localhost:8080/"
        },
        "id": "NL_Slf1WTj9J",
        "outputId": "971a7773-25bf-470f-ebe2-62e17b91ab4a"
      },
      "source": [
        "df.columns"
      ],
      "execution_count": 59,
      "outputs": [
        {
          "output_type": "execute_result",
          "data": {
            "text/plain": [
              "Index(['label', 'text'], dtype='object')"
            ]
          },
          "metadata": {
            "tags": []
          },
          "execution_count": 59
        }
      ]
    },
    {
      "cell_type": "code",
      "metadata": {
        "colab": {
          "base_uri": "https://localhost:8080/",
          "height": 860
        },
        "id": "VfFYDbNevjRm",
        "outputId": "d0239732-eed0-4e40-8fe1-f4e40eff079f"
      },
      "source": [
        "# Distribution of review length???\n",
        "# No real great way of doign this but we can count num of spaces within reviews as a proxy for number of words.\n",
        "# Do long reviews tend to be more possitive ( Or more prone to predict correctly) \n",
        "import matplotlib.pyplot as plt\n",
        "df.text.apply(lambda x: len(x))\n",
        "plt.hist(df.text.apply(lambda x: len(x)),color = 'purple',bins=100)"
      ],
      "execution_count": 63,
      "outputs": [
        {
          "output_type": "execute_result",
          "data": {
            "text/plain": [
              "(array([8.000e+01, 9.140e+02, 1.122e+03, 1.209e+03, 3.959e+03, 3.321e+03,\n",
              "        2.366e+03, 1.866e+03, 1.381e+03, 1.208e+03, 9.670e+02, 8.070e+02,\n",
              "        6.760e+02, 6.450e+02, 5.490e+02, 4.120e+02, 4.090e+02, 3.680e+02,\n",
              "        2.940e+02, 2.550e+02, 2.420e+02, 2.210e+02, 1.960e+02, 1.550e+02,\n",
              "        1.590e+02, 1.400e+02, 1.080e+02, 9.600e+01, 8.800e+01, 8.600e+01,\n",
              "        1.000e+02, 6.400e+01, 5.600e+01, 6.000e+01, 4.500e+01, 5.600e+01,\n",
              "        3.700e+01, 4.100e+01, 3.800e+01, 3.800e+01, 4.200e+01, 3.700e+01,\n",
              "        3.500e+01, 1.700e+01, 7.000e+00, 5.000e+00, 2.000e+00, 1.000e+00,\n",
              "        1.000e+00, 1.000e+00, 1.000e+00, 3.000e+00, 2.000e+00, 1.000e+00,\n",
              "        0.000e+00, 0.000e+00, 2.000e+00, 0.000e+00, 1.000e+00, 1.000e+00,\n",
              "        0.000e+00, 0.000e+00, 0.000e+00, 1.000e+00, 0.000e+00, 1.000e+00,\n",
              "        0.000e+00, 0.000e+00, 2.000e+00, 0.000e+00, 0.000e+00, 0.000e+00,\n",
              "        0.000e+00, 0.000e+00, 0.000e+00, 2.000e+00, 0.000e+00, 0.000e+00,\n",
              "        0.000e+00, 0.000e+00, 0.000e+00, 0.000e+00, 0.000e+00, 0.000e+00,\n",
              "        0.000e+00, 0.000e+00, 0.000e+00, 0.000e+00, 0.000e+00, 0.000e+00,\n",
              "        0.000e+00, 0.000e+00, 0.000e+00, 0.000e+00, 0.000e+00, 0.000e+00,\n",
              "        0.000e+00, 0.000e+00, 0.000e+00, 1.000e+00]),\n",
              " array([   52.  ,   188.52,   325.04,   461.56,   598.08,   734.6 ,\n",
              "          871.12,  1007.64,  1144.16,  1280.68,  1417.2 ,  1553.72,\n",
              "         1690.24,  1826.76,  1963.28,  2099.8 ,  2236.32,  2372.84,\n",
              "         2509.36,  2645.88,  2782.4 ,  2918.92,  3055.44,  3191.96,\n",
              "         3328.48,  3465.  ,  3601.52,  3738.04,  3874.56,  4011.08,\n",
              "         4147.6 ,  4284.12,  4420.64,  4557.16,  4693.68,  4830.2 ,\n",
              "         4966.72,  5103.24,  5239.76,  5376.28,  5512.8 ,  5649.32,\n",
              "         5785.84,  5922.36,  6058.88,  6195.4 ,  6331.92,  6468.44,\n",
              "         6604.96,  6741.48,  6878.  ,  7014.52,  7151.04,  7287.56,\n",
              "         7424.08,  7560.6 ,  7697.12,  7833.64,  7970.16,  8106.68,\n",
              "         8243.2 ,  8379.72,  8516.24,  8652.76,  8789.28,  8925.8 ,\n",
              "         9062.32,  9198.84,  9335.36,  9471.88,  9608.4 ,  9744.92,\n",
              "         9881.44, 10017.96, 10154.48, 10291.  , 10427.52, 10564.04,\n",
              "        10700.56, 10837.08, 10973.6 , 11110.12, 11246.64, 11383.16,\n",
              "        11519.68, 11656.2 , 11792.72, 11929.24, 12065.76, 12202.28,\n",
              "        12338.8 , 12475.32, 12611.84, 12748.36, 12884.88, 13021.4 ,\n",
              "        13157.92, 13294.44, 13430.96, 13567.48, 13704.  ]),\n",
              " <a list of 100 Patch objects>)"
            ]
          },
          "metadata": {
            "tags": []
          },
          "execution_count": 63
        },
        {
          "output_type": "display_data",
          "data": {
            "image/png": "[encoded data removed]",
            "text/plain": [
              "<Figure size 432x288 with 1 Axes>"
            ]
          },
          "metadata": {
            "tags": [],
            "needs_background": "light"
          }
        }
      ]
    },
    {
      "cell_type": "code",
      "metadata": {
        "colab": {
          "base_uri": "https://localhost:8080/",
          "height": 204
        },
        "id": "_NZPyIj6xFz3",
        "outputId": "f0f61d31-577e-4d86-cabc-29d955ada664"
      },
      "source": [
        ""
      ],
      "execution_count": 64,
      "outputs": [
        {
          "output_type": "execute_result",
          "data": {
            "text/html": [
              "<div>\n",
              "<style scoped>\n",
              "    .dataframe tbody tr th:only-of-type {\n",
              "        vertical-align: middle;\n",
              "    }\n",
              "\n",
              "    .dataframe tbody tr th {\n",
              "        vertical-align: top;\n",
              "    }\n",
              "\n",
              "    .dataframe thead th {\n",
              "        text-align: right;\n",
              "    }\n",
              "</style>\n",
              "<table border=\"1\" class=\"dataframe\">\n",
              "  <thead>\n",
              "    <tr style=\"text-align: right;\">\n",
              "      <th></th>\n",
              "      <th>label</th>\n",
              "      <th>text</th>\n",
              "    </tr>\n",
              "  </thead>\n",
              "  <tbody>\n",
              "    <tr>\n",
              "      <th>0</th>\n",
              "      <td>0</td>\n",
              "      <td>This was an absolutely terrible movie. Don't b...</td>\n",
              "    </tr>\n",
              "    <tr>\n",
              "      <th>1</th>\n",
              "      <td>0</td>\n",
              "      <td>I have been known to fall asleep during films,...</td>\n",
              "    </tr>\n",
              "    <tr>\n",
              "      <th>2</th>\n",
              "      <td>0</td>\n",
              "      <td>Mann photographs the Alberta Rocky Mountains i...</td>\n",
              "    </tr>\n",
              "    <tr>\n",
              "      <th>3</th>\n",
              "      <td>1</td>\n",
              "      <td>This is the kind of film for a snowy Sunday af...</td>\n",
              "    </tr>\n",
              "    <tr>\n",
              "      <th>4</th>\n",
              "      <td>1</td>\n",
              "      <td>As others have mentioned, all the women that g...</td>\n",
              "    </tr>\n",
              "  </tbody>\n",
              "</table>\n",
              "</div>"
            ],
            "text/plain": [
              "   label                                               text\n",
              "0      0  This was an absolutely terrible movie. Don't b...\n",
              "1      0  I have been known to fall asleep during films,...\n",
              "2      0  Mann photographs the Alberta Rocky Mountains i...\n",
              "3      1  This is the kind of film for a snowy Sunday af...\n",
              "4      1  As others have mentioned, all the women that g..."
            ]
          },
          "metadata": {
            "tags": []
          },
          "execution_count": 64
        }
      ]
    },
    {
      "cell_type": "markdown",
      "metadata": {
        "id": "QzIgOrbZvkgD"
      },
      "source": [
        "We can use cross validation later on to provide more robustness\n",
        "1. K folds for example "
      ]
    },
    {
      "cell_type": "code",
      "metadata": {
        "id": "i_Iot_GhvMJj"
      },
      "source": [
        "# Fortunately, there exist many libraries that can help us do all \n",
        "# the data cleaning we need to in a couple simple steps"
      ],
      "execution_count": 66,
      "outputs": []
    },
    {
      "cell_type": "code",
      "metadata": {
        "id": "Bez_1oVrvMGQ"
      },
      "source": [
        "import gensim\n",
        "\n",
        "from gensim import parsing"
      ],
      "execution_count": 65,
      "outputs": []
    },
    {
      "cell_type": "code",
      "metadata": {
        "id": "DleTwVosvMDY"
      },
      "source": [
        "# This may take a few seconds to run...\n",
        "processed_text = parsing.preprocess_documents(df.text)"
      ],
      "execution_count": 67,
      "outputs": []
    },
    {
      "cell_type": "code",
      "metadata": {
        "id": "z8DVTnPPx1Ft"
      },
      "source": [
        ""
      ],
      "execution_count": null,
      "outputs": []
    },
    {
      "cell_type": "code",
      "metadata": {
        "colab": {
          "base_uri": "https://localhost:8080/"
        },
        "id": "N2S3qLifvL1Y",
        "outputId": "55196a16-23e9-4a77-f7a1-105367ebd3d7"
      },
      "source": [
        "processed_text[0][0:10]"
      ],
      "execution_count": 68,
      "outputs": [
        {
          "output_type": "execute_result",
          "data": {
            "text/plain": [
              "['absolut',\n",
              " 'terribl',\n",
              " 'movi',\n",
              " 'lure',\n",
              " 'christoph',\n",
              " 'walken',\n",
              " 'michael',\n",
              " 'ironsid',\n",
              " 'great',\n",
              " 'actor']"
            ]
          },
          "metadata": {
            "tags": []
          },
          "execution_count": 68
        }
      ]
    },
    {
      "cell_type": "code",
      "metadata": {
        "colab": {
          "base_uri": "https://localhost:8080/"
        },
        "id": "rWSXzJbDx2-T",
        "outputId": "5c2cf6cd-6984-487d-9e8f-499bfad33f64"
      },
      "source": [
        "list(zip(df.text[0].split()[0:10],processed_text[0][0:10]))"
      ],
      "execution_count": 73,
      "outputs": [
        {
          "output_type": "execute_result",
          "data": {
            "text/plain": [
              "[('This', 'absolut'),\n",
              " ('was', 'terribl'),\n",
              " ('an', 'movi'),\n",
              " ('absolutely', 'lure'),\n",
              " ('terrible', 'christoph'),\n",
              " ('movie.', 'walken'),\n",
              " (\"Don't\", 'michael'),\n",
              " ('be', 'ironsid'),\n",
              " ('lured', 'great'),\n",
              " ('in', 'actor')]"
            ]
          },
          "metadata": {
            "tags": []
          },
          "execution_count": 73
        }
      ]
    },
    {
      "cell_type": "code",
      "metadata": {
        "id": "6t3zV2jprwWN"
      },
      "source": [
        "df['cleaned_text'] = [' '.join(word) for word in processed_text]"
      ],
      "execution_count": 74,
      "outputs": []
    },
    {
      "cell_type": "code",
      "metadata": {
        "colab": {
          "base_uri": "https://localhost:8080/",
          "height": 142
        },
        "id": "oBfmtnWcsMV5",
        "outputId": "f88ac986-639a-4448-8947-b1a92a034d2a"
      },
      "source": [
        "df.head(3)"
      ],
      "execution_count": 75,
      "outputs": [
        {
          "output_type": "execute_result",
          "data": {
            "text/html": [
              "<div>\n",
              "<style scoped>\n",
              "    .dataframe tbody tr th:only-of-type {\n",
              "        vertical-align: middle;\n",
              "    }\n",
              "\n",
              "    .dataframe tbody tr th {\n",
              "        vertical-align: top;\n",
              "    }\n",
              "\n",
              "    .dataframe thead th {\n",
              "        text-align: right;\n",
              "    }\n",
              "</style>\n",
              "<table border=\"1\" class=\"dataframe\">\n",
              "  <thead>\n",
              "    <tr style=\"text-align: right;\">\n",
              "      <th></th>\n",
              "      <th>label</th>\n",
              "      <th>text</th>\n",
              "      <th>cleaned_text</th>\n",
              "    </tr>\n",
              "  </thead>\n",
              "  <tbody>\n",
              "    <tr>\n",
              "      <th>0</th>\n",
              "      <td>0</td>\n",
              "      <td>This was an absolutely terrible movie. Don't b...</td>\n",
              "      <td>absolut terribl movi lure christoph walken mic...</td>\n",
              "    </tr>\n",
              "    <tr>\n",
              "      <th>1</th>\n",
              "      <td>0</td>\n",
              "      <td>I have been known to fall asleep during films,...</td>\n",
              "      <td>known fall asleep film usual combin thing incl...</td>\n",
              "    </tr>\n",
              "    <tr>\n",
              "      <th>2</th>\n",
              "      <td>0</td>\n",
              "      <td>Mann photographs the Alberta Rocky Mountains i...</td>\n",
              "      <td>mann photograph alberta rocki mountain superb ...</td>\n",
              "    </tr>\n",
              "  </tbody>\n",
              "</table>\n",
              "</div>"
            ],
            "text/plain": [
              "   label  ...                                       cleaned_text\n",
              "0      0  ...  absolut terribl movi lure christoph walken mic...\n",
              "1      0  ...  known fall asleep film usual combin thing incl...\n",
              "2      0  ...  mann photograph alberta rocki mountain superb ...\n",
              "\n",
              "[3 rows x 3 columns]"
            ]
          },
          "metadata": {
            "tags": []
          },
          "execution_count": 75
        }
      ]
    },
    {
      "cell_type": "code",
      "metadata": {
        "id": "DJJe6iXFynj5"
      },
      "source": [
        ""
      ],
      "execution_count": null,
      "outputs": []
    },
    {
      "cell_type": "markdown",
      "metadata": {
        "id": "YLeoJ9DMyon5"
      },
      "source": [
        "Notice how we have the word asleep, now we have to analyse to see if this has anything to do with negative reviews (most likely)"
      ]
    },
    {
      "cell_type": "code",
      "metadata": {
        "id": "lGrjpqIPsXHc"
      },
      "source": [
        "from sklearn.model_selection import train_test_split\n",
        "\n",
        "# Now we will split our dataset into training and test sets\n",
        "text_train, text_test, y_train, y_test = train_test_split(df.drop(['label', 'text'], axis=1),\n",
        "                                                          df['label'], stratify=df['label'],\n",
        "                                                          random_state=2020)"
      ],
      "execution_count": 77,
      "outputs": []
    },
    {
      "cell_type": "code",
      "metadata": {
        "id": "uP0zC_F5yzVQ"
      },
      "source": [
        ""
      ],
      "execution_count": null,
      "outputs": []
    },
    {
      "cell_type": "markdown",
      "metadata": {
        "id": "xIJzkc2oy0Hk"
      },
      "source": [
        "We can have k-fold cross validation (80/20) we can have 5 folds where we chose 5 different pieces of the data set in 5 chunks and alternate which one of those 5 we will use as a test set to test across the whole dataset. \n",
        "OR a trade-test split or k fold to 80% of my training data so that we can evaluate our performance until we settle on a model which can then be used to test out the whole\n",
        "BUT at the end of the day we'll need high quality data."
      ]
    },
    {
      "cell_type": "code",
      "metadata": {
        "id": "j8nzZEo8y9TF"
      },
      "source": [
        ""
      ],
      "execution_count": null,
      "outputs": []
    },
    {
      "cell_type": "code",
      "metadata": {
        "id": "RNBe3gsNvKix"
      },
      "source": [
        "cv = CountVectorizer()\n",
        "tfidf = TfidfVectorizer()"
      ],
      "execution_count": 78,
      "outputs": []
    },
    {
      "cell_type": "code",
      "metadata": {
        "colab": {
          "base_uri": "https://localhost:8080/"
        },
        "id": "ueGJ9gLXsk3O",
        "outputId": "e24c83f7-b9ed-489c-ff2e-e9a117d003c3"
      },
      "source": [
        "# We fit on only the training set\n",
        "tfidf.fit(text_train.cleaned_text)"
      ],
      "execution_count": 79,
      "outputs": [
        {
          "output_type": "execute_result",
          "data": {
            "text/plain": [
              "TfidfVectorizer(analyzer='word', binary=False, decode_error='strict',\n",
              "                dtype=<class 'numpy.float64'>, encoding='utf-8',\n",
              "                input='content', lowercase=True, max_df=1.0, max_features=None,\n",
              "                min_df=1, ngram_range=(1, 1), norm='l2', preprocessor=None,\n",
              "                smooth_idf=True, stop_words=None, strip_accents=None,\n",
              "                sublinear_tf=False, token_pattern='(?u)\\\\b\\\\w\\\\w+\\\\b',\n",
              "                tokenizer=None, use_idf=True, vocabulary=None)"
            ]
          },
          "metadata": {
            "tags": []
          },
          "execution_count": 79
        }
      ]
    },
    {
      "cell_type": "code",
      "metadata": {
        "id": "WtCNE_5zz4NI"
      },
      "source": [
        ""
      ],
      "execution_count": null,
      "outputs": []
    },
    {
      "cell_type": "markdown",
      "metadata": {
        "id": "hwLGjkKRz8pw"
      },
      "source": [
        "Most machine learning models will requrie a matrix like format"
      ]
    },
    {
      "cell_type": "code",
      "metadata": {
        "id": "imUJW_Wfskub"
      },
      "source": [
        "# And transform the text using our fit transformer\n",
        "tfidf_out = tfidf.transform(text_train.cleaned_text)"
      ],
      "execution_count": 80,
      "outputs": []
    },
    {
      "cell_type": "code",
      "metadata": {
        "colab": {
          "base_uri": "https://localhost:8080/"
        },
        "id": "hlrxXluPummO",
        "outputId": "97c8ccbe-46f3-481e-b0d7-2065e3ad5ac5"
      },
      "source": [
        "tfidf_out"
      ],
      "execution_count": 81,
      "outputs": [
        {
          "output_type": "execute_result",
          "data": {
            "text/plain": [
              "<18750x44937 sparse matrix of type '<class 'numpy.float64'>'\n",
              "\twith 1534342 stored elements in Compressed Sparse Row format>"
            ]
          },
          "metadata": {
            "tags": []
          },
          "execution_count": 81
        }
      ]
    },
    {
      "cell_type": "code",
      "metadata": {
        "colab": {
          "base_uri": "https://localhost:8080/"
        },
        "id": "rtHPnwSVtpsW",
        "outputId": "d0fbb5b7-56e1-4bef-de5a-71635873ef6c"
      },
      "source": [
        "from sklearn.linear_model import LogisticRegression\n",
        "\n",
        "import numpy as np\n",
        "\n",
        "# Here we create a logistic regression model that can be used for binary predictions\n",
        "lr = LogisticRegression()\n",
        "lr.fit(tfidf_out, list(y_train))"
      ],
      "execution_count": 82,
      "outputs": [
        {
          "output_type": "execute_result",
          "data": {
            "text/plain": [
              "LogisticRegression(C=1.0, class_weight=None, dual=False, fit_intercept=True,\n",
              "                   intercept_scaling=1, l1_ratio=None, max_iter=100,\n",
              "                   multi_class='auto', n_jobs=None, penalty='l2',\n",
              "                   random_state=None, solver='lbfgs', tol=0.0001, verbose=0,\n",
              "                   warm_start=False)"
            ]
          },
          "metadata": {
            "tags": []
          },
          "execution_count": 82
        }
      ]
    },
    {
      "cell_type": "code",
      "metadata": {
        "id": "fR0ZxcLHvBhB"
      },
      "source": [
        "from sklearn import metrics\n",
        "\n",
        "# We use the same vectorizer on the test set to simulate so we don't include\n",
        "# words that were not in our training dataset\n",
        "\n",
        "test_tfidf_out = tfidf.transform(text_test.cleaned_text)\n",
        "\n",
        "# Then we use that output matrix and store the logistic regression model's\n",
        "# predictions\n",
        "\n",
        "predicted = lr.predict(test_tfidf_out)"
      ],
      "execution_count": 86,
      "outputs": []
    },
    {
      "cell_type": "code",
      "metadata": {
        "colab": {
          "base_uri": "https://localhost:8080/"
        },
        "id": "jG6rwkCv17Yi",
        "outputId": "d867c2bc-6751-40bc-fb61-ffcd41af2cab"
      },
      "source": [
        "print(test_tfidf_out.shape)\n",
        "print(tfidf_out.shape, test_tfidf_out.shape)"
      ],
      "execution_count": 88,
      "outputs": [
        {
          "output_type": "stream",
          "text": [
            "(6250, 44937)\n",
            "(18750, 44937) (6250, 44937)\n"
          ],
          "name": "stdout"
        }
      ]
    },
    {
      "cell_type": "markdown",
      "metadata": {
        "id": "gLkSwZuD2sAf"
      },
      "source": [
        "Number of columns in test and train MUST MATCH\n",
        "\n",
        "Our features are our words in the TFIDF matrix\n",
        "\n",
        "1. HOw close to 1 would the model be before it seems it was over performing?\n",
        "- stemming and lemitization really gave us some reduction\n",
        "- We may want to shrink or vocab to 25k words\n",
        "- How can Emojis be used? THey seem to contain a lot of information in a singel token\n",
        "- CHeck for data set that has some available"
      ]
    },
    {
      "cell_type": "markdown",
      "metadata": {
        "id": "LOzk-D5fB-I-"
      },
      "source": [
        "Learn all about [metrics](https://scikit-learn.org/stable/modules/model_evaluation.html)"
      ]
    },
    {
      "cell_type": "code",
      "metadata": {
        "colab": {
          "base_uri": "https://localhost:8080/"
        },
        "id": "2KwmxE92vdNw",
        "outputId": "71bd5108-643a-4069-e3b4-91e13ef6edf5"
      },
      "source": [
        "accuracy = metrics.accuracy_score(y_test, predicted)\n",
        "print(f'Accuracy: {accuracy}')\n",
        "\n",
        "precision = metrics.precision_score(y_test, predicted)\n",
        "print(f'Precision: {precision}')\n",
        "\n",
        "recall = metrics.recall_score(y_test, predicted)\n",
        "print(f'Recall: {recall}')\n",
        "\n",
        "f1 = metrics.f1_score(y_test, predicted)\n",
        "print(f'F1 Score: {f1}')"
      ],
      "execution_count": 84,
      "outputs": [
        {
          "output_type": "stream",
          "text": [
            "Accuracy: 0.88112\n",
            "Precision: 0.8703358208955224\n",
            "Recall: 0.89568\n",
            "F1 Score: 0.8828260526730799\n"
          ],
          "name": "stdout"
        }
      ]
    },
    {
      "cell_type": "code",
      "metadata": {
        "colab": {
          "base_uri": "https://localhost:8080/",
          "height": 541
        },
        "id": "rodg1C6wwfQ8",
        "outputId": "f48c10e0-1d04-4b31-dfcd-bc7ae61c84fa"
      },
      "source": [
        "metrics.plot_roc_curve(lr, test_tfidf_out, y_test)\n",
        "\n",
        "metrics.plot_precision_recall_curve(lr, test_tfidf_out, y_test);"
      ],
      "execution_count": 85,
      "outputs": [
        {
          "output_type": "display_data",
          "data": {
            "image/png": "[encoded data removed]",
            "text/plain": [
              "<Figure size 432x288 with 1 Axes>"
            ]
          },
          "metadata": {
            "tags": [],
            "needs_background": "light"
          }
        },
        {
          "output_type": "display_data",
          "data": {
            "image/png": "[encoded data removed]",
            "text/plain": [
              "<Figure size 432x288 with 1 Axes>"
            ]
          },
          "metadata": {
            "tags": [],
            "needs_background": "light"
          }
        }
      ]
    },
    {
      "cell_type": "markdown",
      "metadata": {
        "id": "L2O_p2Ml4tPY"
      },
      "source": [
        "# Whats next?\n",
        "\n",
        "### Keep Learning:\n",
        "The most important thing to do it keep learning!\n",
        "- [Intro to Python Part 2](https://www.eventbrite.com/e/intro-to-python-part-2-live-online-tickets-127409317699)\n",
        "- [Data Science Prep Course](https://bit.ly/DSIPREP-32q7lQj) \n",
        "\n",
        "\n",
        "See all upcoming Galvanize online events [here](https://www.hackreactor.com/webinars)\n",
        "\n",
        "### More challenge ideas:\n",
        "- Find new datasets to try and apply NLP\n",
        "- Try using NLP to create features for a regression model\n",
        "- Can you find any relationships between positive reviews and the product price?\n",
        "\n",
        "### Stay Connected:\n",
        "- Linkedin: [https://www.linkedin.com/in/andrewmeans/](https://www.linkedin.com/in/andrewmeans/)\n",
        "\n",
        "- email: andrew.means@galvanize.com"
      ]
    },
    {
      "cell_type": "markdown",
      "metadata": {
        "id": "J8f-5MzBxqnK"
      },
      "source": [
        "Additional Exercise:\n",
        "\n",
        "Try the preprocessing steps above on the dataset below."
      ]
    },
    {
      "cell_type": "code",
      "metadata": {
        "colab": {
          "base_uri": "https://localhost:8080/"
        },
        "id": "-sioO5UIO8FO",
        "outputId": "0da3dfc9-3b65-4957-f997-0287355754e7"
      },
      "source": [
        "# Pet Supply Reviews from Amazon provided by Stanford\n",
        "!wget http://snap.stanford.edu/data/amazon/Pet_Supplies.txt.gz"
      ],
      "execution_count": null,
      "outputs": [
        {
          "output_type": "stream",
          "text": [
            "--2020-12-08 01:12:33--  http://snap.stanford.edu/data/amazon/Pet_Supplies.txt.gz\n",
            "Resolving snap.stanford.edu (snap.stanford.edu)... 171.64.75.80\n",
            "Connecting to snap.stanford.edu (snap.stanford.edu)|171.64.75.80|:80... connected.\n",
            "HTTP request sent, awaiting response... 200 OK\n",
            "Length: 49313367 (47M) [application/x-gzip]\n",
            "Saving to: ‘Pet_Supplies.txt.gz’\n",
            "\n",
            "Pet_Supplies.txt.gz 100%[===================>]  47.03M  7.48MB/s    in 5.2s    \n",
            "\n",
            "2020-12-08 01:12:38 (9.08 MB/s) - ‘Pet_Supplies.txt.gz’ saved [49313367/49313367]\n",
            "\n"
          ],
          "name": "stdout"
        }
      ]
    },
    {
      "cell_type": "code",
      "metadata": {
        "colab": {
          "base_uri": "https://localhost:8080/"
        },
        "id": "qJdre0POQfgx",
        "outputId": "6ca80079-bac0-4f6b-b364-5c2f362b88c4"
      },
      "source": [
        "# Also required for the parser\n",
        "!pip install simplejson"
      ],
      "execution_count": null,
      "outputs": [
        {
          "output_type": "stream",
          "text": [
            "Collecting simplejson\n",
            "\u001b[?25l  Downloading https://files.pythonhosted.org/packages/73/96/1e6b19045375890068d7342cbe280dd64ae73fd90b9735b5efb8d1e044a1/simplejson-3.17.2-cp36-cp36m-manylinux2010_x86_64.whl (127kB)\n",
            "\r\u001b[K     |██▋                             | 10kB 18.3MB/s eta 0:00:01\r\u001b[K     |█████▏                          | 20kB 14.1MB/s eta 0:00:01\r\u001b[K     |███████▊                        | 30kB 13.6MB/s eta 0:00:01\r\u001b[K     |██████████▎                     | 40kB 12.6MB/s eta 0:00:01\r\u001b[K     |████████████▉                   | 51kB 9.1MB/s eta 0:00:01\r\u001b[K     |███████████████▍                | 61kB 8.1MB/s eta 0:00:01\r\u001b[K     |██████████████████              | 71kB 9.2MB/s eta 0:00:01\r\u001b[K     |████████████████████▌           | 81kB 10.2MB/s eta 0:00:01\r\u001b[K     |███████████████████████         | 92kB 10.5MB/s eta 0:00:01\r\u001b[K     |█████████████████████████▋      | 102kB 8.7MB/s eta 0:00:01\r\u001b[K     |████████████████████████████▏   | 112kB 8.7MB/s eta 0:00:01\r\u001b[K     |██████████████████████████████▊ | 122kB 8.7MB/s eta 0:00:01\r\u001b[K     |████████████████████████████████| 133kB 8.7MB/s \n",
            "\u001b[?25hInstalling collected packages: simplejson\n",
            "Successfully installed simplejson-3.17.2\n"
          ],
          "name": "stdout"
        }
      ]
    },
    {
      "cell_type": "code",
      "metadata": {
        "id": "LNznN6PEPBr4"
      },
      "source": [
        "# The following code was provided on the original dataset website\n",
        "\n",
        "import gzip\n",
        "import simplejson\n",
        "\n",
        "def parse(filename):\n",
        "  f = gzip.open(filename, 'rt')\n",
        "  entry = {}\n",
        "  for l in f:\n",
        "    l = l.strip()\n",
        "    l = str(l)\n",
        "    colonPos = l.find(':')\n",
        "    if colonPos == -1:\n",
        "      yield entry\n",
        "      entry = {}\n",
        "      continue\n",
        "    eName = l[:colonPos]\n",
        "    rest = l[colonPos+2:]\n",
        "    entry[eName] = rest\n",
        "  yield entry"
      ],
      "execution_count": null,
      "outputs": []
    },
    {
      "cell_type": "code",
      "metadata": {
        "id": "bizVa__TPDk8"
      },
      "source": [
        "review_rows = [e for e in parse(\"Pet_Supplies.txt.gz\")]"
      ],
      "execution_count": null,
      "outputs": []
    },
    {
      "cell_type": "code",
      "metadata": {
        "id": "QCoiii_YRYbN"
      },
      "source": [
        "review_df = pd.DataFrame.from_records(review_rows)"
      ],
      "execution_count": null,
      "outputs": []
    },
    {
      "cell_type": "code",
      "metadata": {
        "colab": {
          "base_uri": "https://localhost:8080/",
          "height": 477
        },
        "id": "H5btnPvvRbkk",
        "outputId": "6d11c2b0-4f6c-4afa-a907-0a88572d612c"
      },
      "source": [
        "review_df.head()"
      ],
      "execution_count": null,
      "outputs": [
        {
          "output_type": "execute_result",
          "data": {
            "text/html": [
              "<div>\n",
              "<style scoped>\n",
              "    .dataframe tbody tr th:only-of-type {\n",
              "        vertical-align: middle;\n",
              "    }\n",
              "\n",
              "    .dataframe tbody tr th {\n",
              "        vertical-align: top;\n",
              "    }\n",
              "\n",
              "    .dataframe thead th {\n",
              "        text-align: right;\n",
              "    }\n",
              "</style>\n",
              "<table border=\"1\" class=\"dataframe\">\n",
              "  <thead>\n",
              "    <tr style=\"text-align: right;\">\n",
              "      <th></th>\n",
              "      <th>product/productId</th>\n",
              "      <th>product/title</th>\n",
              "      <th>product/price</th>\n",
              "      <th>review/userId</th>\n",
              "      <th>review/profileName</th>\n",
              "      <th>review/helpfulness</th>\n",
              "      <th>review/score</th>\n",
              "      <th>review/time</th>\n",
              "      <th>review/summary</th>\n",
              "      <th>review/text</th>\n",
              "    </tr>\n",
              "  </thead>\n",
              "  <tbody>\n",
              "    <tr>\n",
              "      <th>0</th>\n",
              "      <td>B000O1CRYW</td>\n",
              "      <td>Orbee Tuff Ball Orange - SMALL</td>\n",
              "      <td>6.95</td>\n",
              "      <td>A2FEQ9XL6ML51C</td>\n",
              "      <td>Just an everyday Dad</td>\n",
              "      <td>1/1</td>\n",
              "      <td>5.0</td>\n",
              "      <td>1286064000</td>\n",
              "      <td>Little Ball, for Little Dogs...</td>\n",
              "      <td>Great Toy, hard to find! We get ours online he...</td>\n",
              "    </tr>\n",
              "    <tr>\n",
              "      <th>1</th>\n",
              "      <td>B000O1CRYW</td>\n",
              "      <td>Orbee Tuff Ball Orange - SMALL</td>\n",
              "      <td>6.95</td>\n",
              "      <td>A183LI95B2WNUQ</td>\n",
              "      <td>V. J. Mcmillen \"vmcmillen\"</td>\n",
              "      <td>1/1</td>\n",
              "      <td>5.0</td>\n",
              "      <td>1230249600</td>\n",
              "      <td>glow ball</td>\n",
              "      <td>I have bought several of these small Orbee Tuf...</td>\n",
              "    </tr>\n",
              "    <tr>\n",
              "      <th>2</th>\n",
              "      <td>B000O1CRYW</td>\n",
              "      <td>Orbee Tuff Ball Orange - SMALL</td>\n",
              "      <td>6.95</td>\n",
              "      <td>A1LSSENM0XIQQR</td>\n",
              "      <td>gcoronado4</td>\n",
              "      <td>0/0</td>\n",
              "      <td>3.0</td>\n",
              "      <td>1309046400</td>\n",
              "      <td>Too Big</td>\n",
              "      <td>It is a quality ball but the small is still to...</td>\n",
              "    </tr>\n",
              "    <tr>\n",
              "      <th>3</th>\n",
              "      <td>B000O1CRYW</td>\n",
              "      <td>Orbee Tuff Ball Orange - SMALL</td>\n",
              "      <td>6.95</td>\n",
              "      <td>A2E5PZE1PZVK38</td>\n",
              "      <td>jerry</td>\n",
              "      <td>0/0</td>\n",
              "      <td>5.0</td>\n",
              "      <td>1308873600</td>\n",
              "      <td>no good</td>\n",
              "      <td>I gave it 5 stars because my little dog had so...</td>\n",
              "    </tr>\n",
              "    <tr>\n",
              "      <th>4</th>\n",
              "      <td>B0002ARHAE</td>\n",
              "      <td>Kent Marine Pro-Clear Freshwater Clarifier</td>\n",
              "      <td>3.73</td>\n",
              "      <td>A3PXLJE4OPIQTY</td>\n",
              "      <td>M. Thomas \"sea_anemone\"</td>\n",
              "      <td>0/0</td>\n",
              "      <td>5.0</td>\n",
              "      <td>1356912000</td>\n",
              "      <td>Best clarifier ever</td>\n",
              "      <td>I've used many products to try and help the wa...</td>\n",
              "    </tr>\n",
              "  </tbody>\n",
              "</table>\n",
              "</div>"
            ],
            "text/plain": [
              "  product/productId  ...                                        review/text\n",
              "0        B000O1CRYW  ...  Great Toy, hard to find! We get ours online he...\n",
              "1        B000O1CRYW  ...  I have bought several of these small Orbee Tuf...\n",
              "2        B000O1CRYW  ...  It is a quality ball but the small is still to...\n",
              "3        B000O1CRYW  ...  I gave it 5 stars because my little dog had so...\n",
              "4        B0002ARHAE  ...  I've used many products to try and help the wa...\n",
              "\n",
              "[5 rows x 10 columns]"
            ]
          },
          "metadata": {
            "tags": []
          },
          "execution_count": 56
        }
      ]
    },
    {
      "cell_type": "code",
      "metadata": {
        "colab": {
          "base_uri": "https://localhost:8080/"
        },
        "id": "TvR42EgLTtbF",
        "outputId": "42341233-7936-4f98-bde6-01bd9f61eeee"
      },
      "source": [
        "# Download the vader sentiment analyzer\n",
        "nltk.download('vader_lexicon')"
      ],
      "execution_count": null,
      "outputs": [
        {
          "output_type": "stream",
          "text": [
            "[nltk_data] Downloading package vader_lexicon to /root/nltk_data...\n"
          ],
          "name": "stdout"
        },
        {
          "output_type": "execute_result",
          "data": {
            "text/plain": [
              "True"
            ]
          },
          "metadata": {
            "tags": []
          },
          "execution_count": 57
        }
      ]
    },
    {
      "cell_type": "code",
      "metadata": {
        "id": "Aya8WTCRThUB",
        "colab": {
          "base_uri": "https://localhost:8080/"
        },
        "outputId": "17bb2b39-86d4-4f94-8c08-0350da18b1af"
      },
      "source": [
        "from nltk.sentiment.vader import SentimentIntensityAnalyzer\n",
        "\n",
        "vader = SentimentIntensityAnalyzer()"
      ],
      "execution_count": null,
      "outputs": [
        {
          "output_type": "stream",
          "text": [
            "/usr/local/lib/python3.6/dist-packages/nltk/twitter/__init__.py:20: UserWarning: The twython library has not been installed. Some functionality from the twitter package will not be available.\n",
            "  warnings.warn(\"The twython library has not been installed. \"\n"
          ],
          "name": "stderr"
        }
      ]
    },
    {
      "cell_type": "code",
      "metadata": {
        "colab": {
          "base_uri": "https://localhost:8080/"
        },
        "id": "ID3w_rQMTohf",
        "outputId": "ba168940-66a3-41fb-c032-febf36201693"
      },
      "source": [
        "for i in range(5):\n",
        "  print(review_df['review/text'][i])\n",
        "  print(vader.polarity_scores(review_df['review/text'][i]))\n",
        "  print()"
      ],
      "execution_count": null,
      "outputs": [
        {
          "output_type": "stream",
          "text": [
            "Great Toy, hard to find! We get ours online here or shipped from a friend in America!Our little Papillion-Yorkie mix loves it. Every night I am in the back garden kicking the ball for him! He destroys tennis balls by chewing off the fluff and our wee dog finds them to big to carry/catch. We stumbled across this in our local petstore and our dog was hooked! Sadly, local pet store no longer imports them.Stars all around for this one!\n",
            "{'neg': 0.108, 'neu': 0.764, 'pos': 0.128, 'compound': 0.5999}\n",
            "\n",
            "I have bought several of these small Orbee Tuff balls, because my dog simple loves them! The orange ball does glow in the dark that makes it easy to find. I have nothing but good things to say about these small balls. The only down side is Trix, my dog, keeps loosing them!\n",
            "{'neg': 0.056, 'neu': 0.857, 'pos': 0.087, 'compound': 0.1962}\n",
            "\n",
            "It is a quality ball but the small is still too big and heavy for my little yorkie to play with comfortably.\n",
            "{'neg': 0.0, 'neu': 0.748, 'pos': 0.252, 'compound': 0.751}\n",
            "\n",
            "I gave it 5 stars because my little dog had so much fun riping it apart but only took him 24 hrs to do it buy that is 23 hrs longer than other balls\n",
            "{'neg': 0.0, 'neu': 0.931, 'pos': 0.069, 'compound': 0.3158}\n",
            "\n",
            "I've used many products to try and help the water clarity, but only kent marine was capable of successfully clearing the water every time. Caution though, adding it to water will drop the pH. Mix with tank water on the side and check pH before placing it in the tank.\n",
            "{'neg': 0.045, 'neu': 0.762, 'pos': 0.193, 'compound': 0.8294}\n",
            "\n"
          ],
          "name": "stdout"
        }
      ]
    },
    {
      "cell_type": "code",
      "metadata": {
        "id": "4K-ZMBqDT-TI"
      },
      "source": [
        "first_500 = review_df['review/text'][0:500].apply(vader.polarity_scores)[0:500]"
      ],
      "execution_count": null,
      "outputs": []
    },
    {
      "cell_type": "code",
      "metadata": {
        "id": "553M0kOI0vJV"
      },
      "source": [
        "plt.bar(review_df['review/score'][0:500], [x.get('pos') for x in first_500]);"
      ],
      "execution_count": null,
      "outputs": []
    }
  ]
}