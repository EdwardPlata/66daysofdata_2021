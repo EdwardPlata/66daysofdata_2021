{
 "cells": [
  {
   "cell_type": "markdown",
   "metadata": {},
   "source": [
    "#####  Follow along \n",
    "https://github.com/WillKoehrsen/probabilistic-programming/blob/master/Estimating%20Probabilities%20with%20Bayesian%20Inference.ipynb"
   ]
  },
  {
   "cell_type": "code",
   "execution_count": 1,
   "metadata": {},
   "outputs": [
    {
     "name": "stderr",
     "output_type": "stream",
     "text": [
      "WARNING (theano.link.c.cmodule): install mkl with `conda install mkl-service`: No module named 'mkl'\n"
     ]
    }
   ],
   "source": [
    "import pandas as pd\n",
    "import numpy as np\n",
    "import matplotlib.pyplot as plt\n",
    "import seaborn as sns\n",
    "plt.style.use('fivethirtyeight')\n",
    "#plt.reParams['font.size'] = 22\n",
    "%matplotlib inline\n",
    "\n",
    "from matplotlib import MatplotlibDeprecationWarning\n",
    "\n",
    "import warnings\n",
    "warnings.filterwarnings('ignore', category=FutureWarning)\n",
    "warnings.filterwarnings('ignore', category=MatplotlibDeprecationWarning)\n",
    "\n",
    "import pymc3 as pm\n",
    "\n",
    "# Helper functions\n",
    "#from utils import draw_pdf_contours, Dirichlet, plot_points, annotate_plot, add_legend, display_probs"
   ]
  },
  {
   "cell_type": "code",
   "execution_count": 2,
   "metadata": {},
   "outputs": [],
   "source": [
    "animals =['lions','tigers','bears']\n",
    "c=np.array([3,2,1])\n",
    "\n",
    "alphas = np.array([1,1,1])\n",
    "\n",
    "alpha_list = [np.array([0.1,0.1,0.1]),np.array([1,1,1]),\n",
    "             np.array([5,5,5]), np.array([15,15,15])]"
   ]
  },
  {
   "cell_type": "code",
   "execution_count": null,
   "metadata": {},
   "outputs": [],
   "source": []
  }
 ],
 "metadata": {
  "kernelspec": {
   "display_name": "Python 3",
   "language": "python",
   "name": "python3"
  },
  "language_info": {
   "codemirror_mode": {
    "name": "ipython",
    "version": 3
   },
   "file_extension": ".py",
   "mimetype": "text/x-python",
   "name": "python",
   "nbconvert_exporter": "python",
   "pygments_lexer": "ipython3",
   "version": "3.8.6"
  }
 },
 "nbformat": 4,
 "nbformat_minor": 4
}
