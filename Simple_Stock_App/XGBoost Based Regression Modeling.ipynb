{
 "cells": [
  {
   "cell_type": "markdown",
   "metadata": {},
   "source": [
    "##### Boosting and XGBoost based REgression model for stock prediction\n",
    "* Works by building a series of models speicfically targeted at the data points which have been incorrectly predicted by other models in the ensable\n",
    "* So each of the model keep son reducing the average error, thus improving the oveall accuracy\n",
    "* Ada Boost: So instead of picking a data point form a uniform distribution by constructing the tree, the probabilitty of misclassified/wrongly predicted\n",
    "\n",
    "* Gradient boosting:\n",
    "1. prediction i sbuilt\n",
    "2. NExt step then the objective or reducing residual is added\n",
    "3. A bit like an optimizatio problem\n",
    "* Special case of gradient boosting is XGBoost where the residual gradiuet\n",
    "\n",
    "###### Learning rate/ Strinkage:\n",
    "* It's value lie sbetween 0 and 1 and dipicts how aggreessively the gradients are reduced\n",
    "* Number of estimators: Numbers of trees required to generate accurate output\n",
    "* Subsampling: Fraction of data on which the estimators will be typically built\n",
    "* GAmma: Controls regularization of the model\n",
    "Advantages:\n",
    "* Can handle missing vlaues better\n",
    "* Cross validation can be enabled a beter model"
   ]
  },
  {
   "cell_type": "code",
   "execution_count": 1,
   "metadata": {},
   "outputs": [],
   "source": [
    "from xgboost import XGBRegressor"
   ]
  },
  {
   "cell_type": "code",
   "execution_count": 2,
   "metadata": {},
   "outputs": [],
   "source": [
    "xgr = XGBRegressor()"
   ]
  },
  {
   "cell_type": "code",
   "execution_count": null,
   "metadata": {},
   "outputs": [],
   "source": []
  }
 ],
 "metadata": {
  "kernelspec": {
   "display_name": "Python 3",
   "language": "python",
   "name": "python3"
  },
  "language_info": {
   "codemirror_mode": {
    "name": "ipython",
    "version": 3
   },
   "file_extension": ".py",
   "mimetype": "text/x-python",
   "name": "python",
   "nbconvert_exporter": "python",
   "pygments_lexer": "ipython3",
   "version": "3.8.6"
  }
 },
 "nbformat": 4,
 "nbformat_minor": 4
}
