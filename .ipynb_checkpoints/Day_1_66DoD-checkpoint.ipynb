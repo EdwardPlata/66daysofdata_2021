{
 "cells": [
  {
   "cell_type": "markdown",
   "metadata": {},
   "source": [
    "### Quick python overview #66daysofdata"
   ]
  },
  {
   "cell_type": "code",
   "execution_count": 1,
   "metadata": {},
   "outputs": [],
   "source": [
    "## This first day will be a bit all over the place but I'll be taking a look at some \n",
    "#Let's solve some anagrams"
   ]
  },
  {
   "cell_type": "raw",
   "metadata": {},
   "source": [
    "def find_anagrams_bad(lst):\n",
    "    result = list()\n",
    "    for words in lst:\n",
    "        for word in words:\n",
    "            if words != word and sorted(word) == sorted(words):\n",
    "                if word not in result:\n",
    "                    result.append(word)\n",
    "                if words not in result:\n",
    "                    result.append(words)\n",
    "    return \n",
    "                "
   ]
  },
  {
   "cell_type": "code",
   "execution_count": null,
   "metadata": {},
   "outputs": [],
   "source": []
  }
 ],
 "metadata": {
  "kernelspec": {
   "display_name": "Python 3",
   "language": "python",
   "name": "python3"
  },
  "language_info": {
   "codemirror_mode": {
    "name": "ipython",
    "version": 3
   },
   "file_extension": ".py",
   "mimetype": "text/x-python",
   "name": "python",
   "nbconvert_exporter": "python",
   "pygments_lexer": "ipython3",
   "version": "3.8.6"
  }
 },
 "nbformat": 4,
 "nbformat_minor": 4
}
