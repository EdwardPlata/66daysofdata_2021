{
 "cells": [
  {
   "cell_type": "code",
   "execution_count": 2,
   "metadata": {},
   "outputs": [],
   "source": [
    "import pandas as pd"
   ]
  },
  {
   "cell_type": "code",
   "execution_count": 40,
   "metadata": {},
   "outputs": [
    {
     "data": {
      "text/html": [
       "<div>\n",
       "<style scoped>\n",
       "    .dataframe tbody tr th:only-of-type {\n",
       "        vertical-align: middle;\n",
       "    }\n",
       "\n",
       "    .dataframe tbody tr th {\n",
       "        vertical-align: top;\n",
       "    }\n",
       "\n",
       "    .dataframe thead th {\n",
       "        text-align: right;\n",
       "    }\n",
       "</style>\n",
       "<table border=\"1\" class=\"dataframe\">\n",
       "  <thead>\n",
       "    <tr style=\"text-align: right;\">\n",
       "      <th></th>\n",
       "      <th>Month</th>\n",
       "      <th>Golf: (United States)</th>\n",
       "      <th>Soccer: (United States)</th>\n",
       "      <th>Tennis: (United States)</th>\n",
       "      <th>Hockey: (United States)</th>\n",
       "      <th>Baseball: (United States)</th>\n",
       "    </tr>\n",
       "  </thead>\n",
       "  <tbody>\n",
       "    <tr>\n",
       "      <th>0</th>\n",
       "      <td>2004-01</td>\n",
       "      <td>45</td>\n",
       "      <td>21</td>\n",
       "      <td>13</td>\n",
       "      <td>22</td>\n",
       "      <td>24</td>\n",
       "    </tr>\n",
       "    <tr>\n",
       "      <th>1</th>\n",
       "      <td>2004-02</td>\n",
       "      <td>50</td>\n",
       "      <td>24</td>\n",
       "      <td>13</td>\n",
       "      <td>23</td>\n",
       "      <td>32</td>\n",
       "    </tr>\n",
       "    <tr>\n",
       "      <th>2</th>\n",
       "      <td>2004-03</td>\n",
       "      <td>63</td>\n",
       "      <td>27</td>\n",
       "      <td>15</td>\n",
       "      <td>23</td>\n",
       "      <td>45</td>\n",
       "    </tr>\n",
       "    <tr>\n",
       "      <th>3</th>\n",
       "      <td>2004-04</td>\n",
       "      <td>80</td>\n",
       "      <td>29</td>\n",
       "      <td>16</td>\n",
       "      <td>16</td>\n",
       "      <td>53</td>\n",
       "    </tr>\n",
       "    <tr>\n",
       "      <th>4</th>\n",
       "      <td>2004-05</td>\n",
       "      <td>82</td>\n",
       "      <td>31</td>\n",
       "      <td>17</td>\n",
       "      <td>14</td>\n",
       "      <td>52</td>\n",
       "    </tr>\n",
       "  </tbody>\n",
       "</table>\n",
       "</div>"
      ],
      "text/plain": [
       "     Month  Golf: (United States)  Soccer: (United States)  \\\n",
       "0  2004-01                     45                       21   \n",
       "1  2004-02                     50                       24   \n",
       "2  2004-03                     63                       27   \n",
       "3  2004-04                     80                       29   \n",
       "4  2004-05                     82                       31   \n",
       "\n",
       "   Tennis: (United States)  Hockey: (United States)  Baseball: (United States)  \n",
       "0                       13                       22                         24  \n",
       "1                       13                       23                         32  \n",
       "2                       15                       23                         45  \n",
       "3                       16                       16                         53  \n",
       "4                       17                       14                         52  "
      ]
     },
     "execution_count": 40,
     "metadata": {},
     "output_type": "execute_result"
    }
   ],
   "source": [
    "sports=pd.read_csv('sports.csv',skiprows=2)\n",
    "sports.head()"
   ]
  },
  {
   "cell_type": "code",
   "execution_count": 41,
   "metadata": {},
   "outputs": [
    {
     "data": {
      "text/html": [
       "<div>\n",
       "<style scoped>\n",
       "    .dataframe tbody tr th:only-of-type {\n",
       "        vertical-align: middle;\n",
       "    }\n",
       "\n",
       "    .dataframe tbody tr th {\n",
       "        vertical-align: top;\n",
       "    }\n",
       "\n",
       "    .dataframe thead th {\n",
       "        text-align: right;\n",
       "    }\n",
       "</style>\n",
       "<table border=\"1\" class=\"dataframe\">\n",
       "  <thead>\n",
       "    <tr style=\"text-align: right;\">\n",
       "      <th></th>\n",
       "      <th>Golf</th>\n",
       "      <th>Soccer</th>\n",
       "      <th>Tennis</th>\n",
       "      <th>Hockey</th>\n",
       "      <th>Baseball</th>\n",
       "    </tr>\n",
       "    <tr>\n",
       "      <th>Month</th>\n",
       "      <th></th>\n",
       "      <th></th>\n",
       "      <th></th>\n",
       "      <th></th>\n",
       "      <th></th>\n",
       "    </tr>\n",
       "  </thead>\n",
       "  <tbody>\n",
       "    <tr>\n",
       "      <th>2004-01</th>\n",
       "      <td>45</td>\n",
       "      <td>21</td>\n",
       "      <td>13</td>\n",
       "      <td>22</td>\n",
       "      <td>24</td>\n",
       "    </tr>\n",
       "    <tr>\n",
       "      <th>2004-02</th>\n",
       "      <td>50</td>\n",
       "      <td>24</td>\n",
       "      <td>13</td>\n",
       "      <td>23</td>\n",
       "      <td>32</td>\n",
       "    </tr>\n",
       "    <tr>\n",
       "      <th>2004-03</th>\n",
       "      <td>63</td>\n",
       "      <td>27</td>\n",
       "      <td>15</td>\n",
       "      <td>23</td>\n",
       "      <td>45</td>\n",
       "    </tr>\n",
       "    <tr>\n",
       "      <th>2004-04</th>\n",
       "      <td>80</td>\n",
       "      <td>29</td>\n",
       "      <td>16</td>\n",
       "      <td>16</td>\n",
       "      <td>53</td>\n",
       "    </tr>\n",
       "    <tr>\n",
       "      <th>2004-05</th>\n",
       "      <td>82</td>\n",
       "      <td>31</td>\n",
       "      <td>17</td>\n",
       "      <td>14</td>\n",
       "      <td>52</td>\n",
       "    </tr>\n",
       "  </tbody>\n",
       "</table>\n",
       "</div>"
      ],
      "text/plain": [
       "         Golf  Soccer  Tennis  Hockey  Baseball\n",
       "Month                                          \n",
       "2004-01    45      21      13      22        24\n",
       "2004-02    50      24      13      23        32\n",
       "2004-03    63      27      15      23        45\n",
       "2004-04    80      29      16      16        53\n",
       "2004-05    82      31      17      14        52"
      ]
     },
     "execution_count": 41,
     "metadata": {},
     "output_type": "execute_result"
    }
   ],
   "source": [
    "col_names = ['Month','Golf','Soccer','Tennis','Hockey','Baseball']\n",
    "sports.columns = col_names\n",
    "sports.set_index('Month',inplace=True)\n",
    "sports.head()"
   ]
  },
  {
   "cell_type": "code",
   "execution_count": 42,
   "metadata": {},
   "outputs": [
    {
     "name": "stdout",
     "output_type": "stream",
     "text": [
      "(191, 5)\n"
     ]
    }
   ],
   "source": [
    "print(sports.shape)"
   ]
  },
  {
   "cell_type": "code",
   "execution_count": 43,
   "metadata": {},
   "outputs": [
    {
     "data": {
      "text/html": [
       "<div>\n",
       "<style scoped>\n",
       "    .dataframe tbody tr th:only-of-type {\n",
       "        vertical-align: middle;\n",
       "    }\n",
       "\n",
       "    .dataframe tbody tr th {\n",
       "        vertical-align: top;\n",
       "    }\n",
       "\n",
       "    .dataframe thead th {\n",
       "        text-align: right;\n",
       "    }\n",
       "</style>\n",
       "<table border=\"1\" class=\"dataframe\">\n",
       "  <thead>\n",
       "    <tr style=\"text-align: right;\">\n",
       "      <th></th>\n",
       "      <th>Golf</th>\n",
       "      <th>Soccer</th>\n",
       "      <th>Tennis</th>\n",
       "      <th>Hockey</th>\n",
       "      <th>Baseball</th>\n",
       "    </tr>\n",
       "  </thead>\n",
       "  <tbody>\n",
       "    <tr>\n",
       "      <th>count</th>\n",
       "      <td>191.000000</td>\n",
       "      <td>191.000000</td>\n",
       "      <td>191.000000</td>\n",
       "      <td>191.000000</td>\n",
       "      <td>191.000000</td>\n",
       "    </tr>\n",
       "    <tr>\n",
       "      <th>mean</th>\n",
       "      <td>49.387435</td>\n",
       "      <td>28.853403</td>\n",
       "      <td>13.502618</td>\n",
       "      <td>14.879581</td>\n",
       "      <td>34.183246</td>\n",
       "    </tr>\n",
       "    <tr>\n",
       "      <th>std</th>\n",
       "      <td>18.247326</td>\n",
       "      <td>8.682073</td>\n",
       "      <td>4.067683</td>\n",
       "      <td>5.916182</td>\n",
       "      <td>14.037279</td>\n",
       "    </tr>\n",
       "    <tr>\n",
       "      <th>min</th>\n",
       "      <td>23.000000</td>\n",
       "      <td>17.000000</td>\n",
       "      <td>7.000000</td>\n",
       "      <td>6.000000</td>\n",
       "      <td>13.000000</td>\n",
       "    </tr>\n",
       "    <tr>\n",
       "      <th>25%</th>\n",
       "      <td>34.000000</td>\n",
       "      <td>24.000000</td>\n",
       "      <td>11.000000</td>\n",
       "      <td>11.000000</td>\n",
       "      <td>23.500000</td>\n",
       "    </tr>\n",
       "    <tr>\n",
       "      <th>50%</th>\n",
       "      <td>48.000000</td>\n",
       "      <td>28.000000</td>\n",
       "      <td>13.000000</td>\n",
       "      <td>15.000000</td>\n",
       "      <td>30.000000</td>\n",
       "    </tr>\n",
       "    <tr>\n",
       "      <th>75%</th>\n",
       "      <td>59.000000</td>\n",
       "      <td>32.000000</td>\n",
       "      <td>16.000000</td>\n",
       "      <td>18.000000</td>\n",
       "      <td>48.500000</td>\n",
       "    </tr>\n",
       "    <tr>\n",
       "      <th>max</th>\n",
       "      <td>100.000000</td>\n",
       "      <td>84.000000</td>\n",
       "      <td>26.000000</td>\n",
       "      <td>55.000000</td>\n",
       "      <td>61.000000</td>\n",
       "    </tr>\n",
       "  </tbody>\n",
       "</table>\n",
       "</div>"
      ],
      "text/plain": [
       "             Golf      Soccer      Tennis      Hockey    Baseball\n",
       "count  191.000000  191.000000  191.000000  191.000000  191.000000\n",
       "mean    49.387435   28.853403   13.502618   14.879581   34.183246\n",
       "std     18.247326    8.682073    4.067683    5.916182   14.037279\n",
       "min     23.000000   17.000000    7.000000    6.000000   13.000000\n",
       "25%     34.000000   24.000000   11.000000   11.000000   23.500000\n",
       "50%     48.000000   28.000000   13.000000   15.000000   30.000000\n",
       "75%     59.000000   32.000000   16.000000   18.000000   48.500000\n",
       "max    100.000000   84.000000   26.000000   55.000000   61.000000"
      ]
     },
     "execution_count": 43,
     "metadata": {},
     "output_type": "execute_result"
    }
   ],
   "source": [
    "sports.describe()"
   ]
  },
  {
   "cell_type": "code",
   "execution_count": 44,
   "metadata": {},
   "outputs": [
    {
     "data": {
      "text/html": [
       "<div>\n",
       "<style scoped>\n",
       "    .dataframe tbody tr th:only-of-type {\n",
       "        vertical-align: middle;\n",
       "    }\n",
       "\n",
       "    .dataframe tbody tr th {\n",
       "        vertical-align: top;\n",
       "    }\n",
       "\n",
       "    .dataframe thead th {\n",
       "        text-align: right;\n",
       "    }\n",
       "</style>\n",
       "<table border=\"1\" class=\"dataframe\">\n",
       "  <thead>\n",
       "    <tr style=\"text-align: right;\">\n",
       "      <th></th>\n",
       "      <th>count</th>\n",
       "      <th>mean</th>\n",
       "      <th>std</th>\n",
       "      <th>min</th>\n",
       "      <th>25%</th>\n",
       "      <th>50%</th>\n",
       "      <th>75%</th>\n",
       "      <th>max</th>\n",
       "    </tr>\n",
       "  </thead>\n",
       "  <tbody>\n",
       "    <tr>\n",
       "      <th>Golf</th>\n",
       "      <td>191.0</td>\n",
       "      <td>49.387435</td>\n",
       "      <td>18.247326</td>\n",
       "      <td>23.0</td>\n",
       "      <td>34.0</td>\n",
       "      <td>48.0</td>\n",
       "      <td>59.0</td>\n",
       "      <td>100.0</td>\n",
       "    </tr>\n",
       "    <tr>\n",
       "      <th>Soccer</th>\n",
       "      <td>191.0</td>\n",
       "      <td>28.853403</td>\n",
       "      <td>8.682073</td>\n",
       "      <td>17.0</td>\n",
       "      <td>24.0</td>\n",
       "      <td>28.0</td>\n",
       "      <td>32.0</td>\n",
       "      <td>84.0</td>\n",
       "    </tr>\n",
       "    <tr>\n",
       "      <th>Tennis</th>\n",
       "      <td>191.0</td>\n",
       "      <td>13.502618</td>\n",
       "      <td>4.067683</td>\n",
       "      <td>7.0</td>\n",
       "      <td>11.0</td>\n",
       "      <td>13.0</td>\n",
       "      <td>16.0</td>\n",
       "      <td>26.0</td>\n",
       "    </tr>\n",
       "    <tr>\n",
       "      <th>Hockey</th>\n",
       "      <td>191.0</td>\n",
       "      <td>14.879581</td>\n",
       "      <td>5.916182</td>\n",
       "      <td>6.0</td>\n",
       "      <td>11.0</td>\n",
       "      <td>15.0</td>\n",
       "      <td>18.0</td>\n",
       "      <td>55.0</td>\n",
       "    </tr>\n",
       "    <tr>\n",
       "      <th>Baseball</th>\n",
       "      <td>191.0</td>\n",
       "      <td>34.183246</td>\n",
       "      <td>14.037279</td>\n",
       "      <td>13.0</td>\n",
       "      <td>23.5</td>\n",
       "      <td>30.0</td>\n",
       "      <td>48.5</td>\n",
       "      <td>61.0</td>\n",
       "    </tr>\n",
       "  </tbody>\n",
       "</table>\n",
       "</div>"
      ],
      "text/plain": [
       "          count       mean        std   min   25%   50%   75%    max\n",
       "Golf      191.0  49.387435  18.247326  23.0  34.0  48.0  59.0  100.0\n",
       "Soccer    191.0  28.853403   8.682073  17.0  24.0  28.0  32.0   84.0\n",
       "Tennis    191.0  13.502618   4.067683   7.0  11.0  13.0  16.0   26.0\n",
       "Hockey    191.0  14.879581   5.916182   6.0  11.0  15.0  18.0   55.0\n",
       "Baseball  191.0  34.183246  14.037279  13.0  23.5  30.0  48.5   61.0"
      ]
     },
     "execution_count": 44,
     "metadata": {},
     "output_type": "execute_result"
    }
   ],
   "source": [
    "sports.describe().T"
   ]
  },
  {
   "cell_type": "code",
   "execution_count": 45,
   "metadata": {},
   "outputs": [
    {
     "data": {
      "text/plain": [
       "array([ 45,  50,  63,  80,  82, 100,  94,  85,  65,  42,  44,  61,  98,\n",
       "        95,  86,  51,  43,  48,  57,  78,  76,  91,  88,  49,  41,  40,\n",
       "        46,  56,  71,  77,  87,  62,  36,  39,  52,  68,  69,  90,  66,\n",
       "        31,  33,  64,  74,  37,  32,  30,  58,  34,  27,  26,  35,  29,\n",
       "        47,  75,  54,  55,  25,  53,  23,  59,  24,  28])"
      ]
     },
     "execution_count": 45,
     "metadata": {},
     "output_type": "execute_result"
    }
   ],
   "source": [
    "sports.Golf.unique()"
   ]
  },
  {
   "cell_type": "code",
   "execution_count": 46,
   "metadata": {},
   "outputs": [
    {
     "name": "stdout",
     "output_type": "stream",
     "text": [
      "Max Per sports:\n",
      " Golf        100\n",
      "Soccer       84\n",
      "Tennis       26\n",
      "Hockey       55\n",
      "Baseball     61\n",
      "dtype: int64\n"
     ]
    }
   ],
   "source": [
    "print('Max Per sports:\\n',sports.max())"
   ]
  },
  {
   "cell_type": "code",
   "execution_count": 47,
   "metadata": {},
   "outputs": [
    {
     "name": "stdout",
     "output_type": "stream",
     "text": [
      "Min Per sports:\n",
      " Golf        23\n",
      "Soccer      17\n",
      "Tennis       7\n",
      "Hockey       6\n",
      "Baseball    13\n",
      "dtype: int64\n"
     ]
    }
   ],
   "source": [
    "print('Min Per sports:\\n',sports.min())"
   ]
  },
  {
   "cell_type": "markdown",
   "metadata": {},
   "source": [
    "##### Measures of Central Tendency"
   ]
  },
  {
   "cell_type": "code",
   "execution_count": 48,
   "metadata": {},
   "outputs": [
    {
     "name": "stdout",
     "output_type": "stream",
     "text": [
      "Mean of sports: \n",
      " Golf        49.387435\n",
      "Soccer      28.853403\n",
      "Tennis      13.502618\n",
      "Hockey      14.879581\n",
      "Baseball    34.183246\n",
      "dtype: float64\n"
     ]
    }
   ],
   "source": [
    "print('Mean of sports: \\n',sports.mean())"
   ]
  },
  {
   "cell_type": "code",
   "execution_count": 49,
   "metadata": {},
   "outputs": [
    {
     "name": "stdout",
     "output_type": "stream",
     "text": [
      "Median of sports: \n",
      " Golf        48.0\n",
      "Soccer      28.0\n",
      "Tennis      13.0\n",
      "Hockey      15.0\n",
      "Baseball    30.0\n",
      "dtype: float64\n"
     ]
    }
   ],
   "source": [
    "print('Median of sports: \\n', sports.median())"
   ]
  },
  {
   "cell_type": "code",
   "execution_count": 50,
   "metadata": {},
   "outputs": [
    {
     "name": "stdout",
     "output_type": "stream",
     "text": [
      "Mode for Golf: \n",
      " 0    26\n",
      "dtype: int64\n"
     ]
    }
   ],
   "source": [
    "print('Mode for Golf: \\n',sports.Golf.mode())"
   ]
  },
  {
   "cell_type": "code",
   "execution_count": 51,
   "metadata": {},
   "outputs": [
    {
     "name": "stdout",
     "output_type": "stream",
     "text": [
      "Ranges for sports \n",
      " Golf        77\n",
      "Soccer      67\n",
      "Tennis      19\n",
      "Hockey      49\n",
      "Baseball    48\n",
      "dtype: int64\n"
     ]
    }
   ],
   "source": [
    "print('Ranges for sports \\n',sports.max()-sports.min())\n",
    "# Outliers can skew this"
   ]
  },
  {
   "cell_type": "code",
   "execution_count": 52,
   "metadata": {},
   "outputs": [
    {
     "data": {
      "text/html": [
       "<div>\n",
       "<style scoped>\n",
       "    .dataframe tbody tr th:only-of-type {\n",
       "        vertical-align: middle;\n",
       "    }\n",
       "\n",
       "    .dataframe tbody tr th {\n",
       "        vertical-align: top;\n",
       "    }\n",
       "\n",
       "    .dataframe thead th {\n",
       "        text-align: right;\n",
       "    }\n",
       "</style>\n",
       "<table border=\"1\" class=\"dataframe\">\n",
       "  <thead>\n",
       "    <tr style=\"text-align: right;\">\n",
       "      <th></th>\n",
       "      <th>Golf</th>\n",
       "      <th>Soccer</th>\n",
       "      <th>Tennis</th>\n",
       "      <th>Hockey</th>\n",
       "      <th>Baseball</th>\n",
       "    </tr>\n",
       "  </thead>\n",
       "  <tbody>\n",
       "    <tr>\n",
       "      <th>count</th>\n",
       "      <td>191.000000</td>\n",
       "      <td>191.000000</td>\n",
       "      <td>191.000000</td>\n",
       "      <td>191.000000</td>\n",
       "      <td>191.000000</td>\n",
       "    </tr>\n",
       "    <tr>\n",
       "      <th>mean</th>\n",
       "      <td>49.387435</td>\n",
       "      <td>28.853403</td>\n",
       "      <td>13.502618</td>\n",
       "      <td>14.879581</td>\n",
       "      <td>34.183246</td>\n",
       "    </tr>\n",
       "    <tr>\n",
       "      <th>std</th>\n",
       "      <td>18.247326</td>\n",
       "      <td>8.682073</td>\n",
       "      <td>4.067683</td>\n",
       "      <td>5.916182</td>\n",
       "      <td>14.037279</td>\n",
       "    </tr>\n",
       "    <tr>\n",
       "      <th>min</th>\n",
       "      <td>23.000000</td>\n",
       "      <td>17.000000</td>\n",
       "      <td>7.000000</td>\n",
       "      <td>6.000000</td>\n",
       "      <td>13.000000</td>\n",
       "    </tr>\n",
       "    <tr>\n",
       "      <th>10%</th>\n",
       "      <td>28.000000</td>\n",
       "      <td>20.000000</td>\n",
       "      <td>9.000000</td>\n",
       "      <td>9.000000</td>\n",
       "      <td>17.000000</td>\n",
       "    </tr>\n",
       "    <tr>\n",
       "      <th>25%</th>\n",
       "      <td>34.000000</td>\n",
       "      <td>24.000000</td>\n",
       "      <td>11.000000</td>\n",
       "      <td>11.000000</td>\n",
       "      <td>23.500000</td>\n",
       "    </tr>\n",
       "    <tr>\n",
       "      <th>50%</th>\n",
       "      <td>48.000000</td>\n",
       "      <td>28.000000</td>\n",
       "      <td>13.000000</td>\n",
       "      <td>15.000000</td>\n",
       "      <td>30.000000</td>\n",
       "    </tr>\n",
       "    <tr>\n",
       "      <th>75%</th>\n",
       "      <td>59.000000</td>\n",
       "      <td>32.000000</td>\n",
       "      <td>16.000000</td>\n",
       "      <td>18.000000</td>\n",
       "      <td>48.500000</td>\n",
       "    </tr>\n",
       "    <tr>\n",
       "      <th>90%</th>\n",
       "      <td>77.000000</td>\n",
       "      <td>36.000000</td>\n",
       "      <td>20.000000</td>\n",
       "      <td>20.000000</td>\n",
       "      <td>54.000000</td>\n",
       "    </tr>\n",
       "    <tr>\n",
       "      <th>max</th>\n",
       "      <td>100.000000</td>\n",
       "      <td>84.000000</td>\n",
       "      <td>26.000000</td>\n",
       "      <td>55.000000</td>\n",
       "      <td>61.000000</td>\n",
       "    </tr>\n",
       "  </tbody>\n",
       "</table>\n",
       "</div>"
      ],
      "text/plain": [
       "             Golf      Soccer      Tennis      Hockey    Baseball\n",
       "count  191.000000  191.000000  191.000000  191.000000  191.000000\n",
       "mean    49.387435   28.853403   13.502618   14.879581   34.183246\n",
       "std     18.247326    8.682073    4.067683    5.916182   14.037279\n",
       "min     23.000000   17.000000    7.000000    6.000000   13.000000\n",
       "10%     28.000000   20.000000    9.000000    9.000000   17.000000\n",
       "25%     34.000000   24.000000   11.000000   11.000000   23.500000\n",
       "50%     48.000000   28.000000   13.000000   15.000000   30.000000\n",
       "75%     59.000000   32.000000   16.000000   18.000000   48.500000\n",
       "90%     77.000000   36.000000   20.000000   20.000000   54.000000\n",
       "max    100.000000   84.000000   26.000000   55.000000   61.000000"
      ]
     },
     "execution_count": 52,
     "metadata": {},
     "output_type": "execute_result"
    }
   ],
   "source": [
    "# PErcentile values\n",
    "sports.describe(percentiles=[.1,.25,.5,.75,.9])"
   ]
  },
  {
   "cell_type": "code",
   "execution_count": 53,
   "metadata": {},
   "outputs": [
    {
     "name": "stdout",
     "output_type": "stream",
     "text": [
      "Inter Quartile Range for Golf 25.0\n"
     ]
    }
   ],
   "source": [
    "# Inter quartile (25 percentile - 75 percentile)\n",
    "from scipy.stats import iqr\n",
    "IQR = iqr(sports['Golf'])\n",
    "print('Inter Quartile Range for Golf',IQR)"
   ]
  },
  {
   "cell_type": "markdown",
   "metadata": {},
   "source": [
    "##### Measure of Spread\n",
    "'$\\sigma = \\sqrt {\\mu _2 }$'"
   ]
  },
  {
   "cell_type": "code",
   "execution_count": 54,
   "metadata": {},
   "outputs": [
    {
     "data": {
      "text/plain": [
       "Golf        191\n",
       "Soccer      191\n",
       "Tennis      191\n",
       "Hockey      191\n",
       "Baseball    191\n",
       "dtype: int64"
      ]
     },
     "execution_count": 54,
     "metadata": {},
     "output_type": "execute_result"
    }
   ],
   "source": [
    "sports.count()"
   ]
  },
  {
   "cell_type": "code",
   "execution_count": 55,
   "metadata": {},
   "outputs": [
    {
     "data": {
      "text/plain": [
       "191"
      ]
     },
     "execution_count": 55,
     "metadata": {},
     "output_type": "execute_result"
    }
   ],
   "source": [
    "sports.shape[0]"
   ]
  },
  {
   "cell_type": "code",
   "execution_count": 56,
   "metadata": {},
   "outputs": [
    {
     "name": "stdout",
     "output_type": "stream",
     "text": [
      "18.247325664605434\n"
     ]
    }
   ],
   "source": [
    "# Standard deviation tells you how much you data points deviate from the mean.\n",
    "# Standard deviation is a measure of spread. IT ahs the same units as your data.\n",
    "# How it;s calculated\n",
    "diff = sports['Golf']-sports['Golf'].mean()\n",
    "square_diff = diff**2\n",
    "sum_squares = square_diff.sum()\n",
    "total_divide=sum_squares/(sports.shape[0]-1)\n",
    "squareroot_result=total_divide**0.5\n",
    "print(squareroot_result)"
   ]
  },
  {
   "cell_type": "code",
   "execution_count": null,
   "metadata": {},
   "outputs": [],
   "source": []
  }
 ],
 "metadata": {
  "kernelspec": {
   "display_name": "Python 3",
   "language": "python",
   "name": "python3"
  },
  "language_info": {
   "codemirror_mode": {
    "name": "ipython",
    "version": 3
   },
   "file_extension": ".py",
   "mimetype": "text/x-python",
   "name": "python",
   "nbconvert_exporter": "python",
   "pygments_lexer": "ipython3",
   "version": "3.8.6"
  }
 },
 "nbformat": 4,
 "nbformat_minor": 4
}
