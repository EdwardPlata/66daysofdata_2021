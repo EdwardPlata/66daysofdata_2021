{
 "cells": [
  {
   "cell_type": "code",
   "execution_count": 2,
   "metadata": {},
   "outputs": [],
   "source": [
    "import math\n",
    "import scipy.stats as scs"
   ]
  },
  {
   "cell_type": "markdown",
   "metadata": {},
   "source": [
    "##### Statistical Power\n",
    "###### Hypothesis Testing"
   ]
  },
  {
   "cell_type": "code",
   "execution_count": 3,
   "metadata": {},
   "outputs": [
    {
     "name": "stdout",
     "output_type": "stream",
     "text": [
      "Critical Value to RejectH_0: 0.08224268134757362\n"
     ]
    }
   ],
   "source": [
    "null_distribution = scs.norm(0,0.5/10)\n",
    "critical_value = null_distribution.ppf(0.95)\n",
    "\n",
    "print(\"Critical Value to RejectH_0: {}\".format(critical_value))"
   ]
  },
  {
   "cell_type": "code",
   "execution_count": 5,
   "metadata": {},
   "outputs": [
    {
     "name": "stdout",
     "output_type": "stream",
     "text": [
      "Power of test: 0.6387600313123352\n"
     ]
    }
   ],
   "source": [
    "alternate_distribution = scs.norm(0.1, 0.5/10)\n",
    "critical_value = null_distribution.ppf(0.95)\n",
    "power = 1 - alternate_distribution.cdf(critical_value);\n",
    "\n",
    "print(\"Power of test: {}\".format(power))"
   ]
  },
  {
   "cell_type": "code",
   "execution_count": 6,
   "metadata": {},
   "outputs": [],
   "source": [
    "def compute_power(n,sigma,alpha,mu0,mua):\n",
    "    standard_error=sigma/n**0.5\n",
    "    h0 = scs.norm(mu0,standard_error)\n",
    "    ha = scs.norm(mua,standard_error)\n",
    "    critical_value = h0.ppf(1-alpha)\n",
    "    power = 1-ha.cdf(critical_value)\n",
    "    return_power"
   ]
  },
  {
   "cell_type": "code",
   "execution_count": 10,
   "metadata": {},
   "outputs": [],
   "source": [
    "def sample_size_needed_for_power(alpha,power,mu0,mua,sigma):\n",
    "    standard_normal = scs.norm(0,1)\n",
    "    beta = 1-power\n",
    "    numerator = sigma *(standard_normal.ppf(1-alpha)-standard_normal.ppf(beta))\n",
    "    denominator= mua-mu0\n",
    "    return(numerator/denominator)**2"
   ]
  },
  {
   "cell_type": "code",
   "execution_count": 11,
   "metadata": {},
   "outputs": [
    {
     "name": "stdout",
     "output_type": "stream",
     "text": [
      "Sample Size Needed to Achieve Power 0.500: 67.63858635238533\n",
      "Sample Size Needed to Achieve Power 0.750: 134.48384252795552\n",
      "Sample Size Needed to Achieve Power 0.900: 214.09618376669934\n",
      "Sample Size Needed to Achieve Power 0.990: 394.26103403709\n",
      "Sample Size Needed to Achieve Power 0.999: 560.5259698506032\n"
     ]
    }
   ],
   "source": [
    "alpha, mu0, mua, sigma = 0.05, 0.0, 0.1, 0.5\n",
    "powers = [0.5, 0.75, 0.9, 0.99, 0.999]\n",
    "\n",
    "for power in powers:\n",
    "    print(\"Sample Size Needed to Achieve Power {:2.3f}: {}\".format(\n",
    "        power, \n",
    "        sample_size_needed_for_power(alpha, power, mu0, mua, sigma)))"
   ]
  },
  {
   "cell_type": "code",
   "execution_count": null,
   "metadata": {},
   "outputs": [],
   "source": []
  }
 ],
 "metadata": {
  "kernelspec": {
   "display_name": "Python 3",
   "language": "python",
   "name": "python3"
  },
  "language_info": {
   "codemirror_mode": {
    "name": "ipython",
    "version": 3
   },
   "file_extension": ".py",
   "mimetype": "text/x-python",
   "name": "python",
   "nbconvert_exporter": "python",
   "pygments_lexer": "ipython3",
   "version": "3.8.6"
  }
 },
 "nbformat": 4,
 "nbformat_minor": 4
}
