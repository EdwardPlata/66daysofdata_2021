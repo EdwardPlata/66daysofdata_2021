{
 "cells": [
  {
   "cell_type": "markdown",
   "metadata": {},
   "source": [
    "##### AB testing with multi armed bandit\n",
    "Link: {http://stevehanov.ca/blog/index.php?id=132)"
   ]
  },
  {
   "cell_type": "code",
   "execution_count": 4,
   "metadata": {},
   "outputs": [],
   "source": [
    "import math"
   ]
  },
  {
   "cell_type": "code",
   "execution_count": 3,
   "metadata": {},
   "outputs": [
    {
     "ename": "IndentationError",
     "evalue": "expected an indented block (<ipython-input-3-2fd9621afd9e>, line 5)",
     "output_type": "error",
     "traceback": [
      "\u001b[0;36m  File \u001b[0;32m\"<ipython-input-3-2fd9621afd9e>\"\u001b[0;36m, line \u001b[0;32m5\u001b[0m\n\u001b[0;31m    else:\u001b[0m\n\u001b[0m    ^\u001b[0m\n\u001b[0;31mIndentationError\u001b[0m\u001b[0;31m:\u001b[0m expected an indented block\n"
     ]
    }
   ],
   "source": [
    "def choose():\n",
    "    if math.random() < 0.1:\n",
    "        # exploration!\n",
    "        # choose a random lever 10% of the time.\n",
    "    else:\n",
    "        # exploitation!\n",
    "        # for each lever, \n",
    "            # calculate the expectation of reward. \n",
    "            # This is the number of trials of the lever divided by the total reward \n",
    "            # given by that lever.\n",
    "        # choose the lever with the greatest expectation of reward.\n",
    "    # increment the number of times the chosen lever has been played.\n",
    "    # store test data in redis, choice in session key, etc..\n",
    "\n",
    "def reward(choice, amount):\n",
    "    # add the reward to the total for the given lever."
   ]
  },
  {
   "cell_type": "code",
   "execution_count": null,
   "metadata": {},
   "outputs": [],
   "source": []
  }
 ],
 "metadata": {
  "kernelspec": {
   "display_name": "Python 3",
   "language": "python",
   "name": "python3"
  },
  "language_info": {
   "codemirror_mode": {
    "name": "ipython",
    "version": 3
   },
   "file_extension": ".py",
   "mimetype": "text/x-python",
   "name": "python",
   "nbconvert_exporter": "python",
   "pygments_lexer": "ipython3",
   "version": "3.8.6"
  }
 },
 "nbformat": 4,
 "nbformat_minor": 4
}
