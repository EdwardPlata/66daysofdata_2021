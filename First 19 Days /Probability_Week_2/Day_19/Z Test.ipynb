{
 "cells": [
  {
   "cell_type": "code",
   "execution_count": 1,
   "metadata": {},
   "outputs": [],
   "source": [
    "import numpy as np\n",
    "import scipy.stats as scs"
   ]
  },
  {
   "cell_type": "code",
   "execution_count": 4,
   "metadata": {},
   "outputs": [],
   "source": [
    "def z_test(ctr_old,ctr_new, nobs_old,nobs_new, effet_size = 0, two_tailed=True, alpha=0.5):\n",
    "    conversion = (ctr_old*nobs_old + ctr_new * nobs_new)/(nobs_old+nobs_new)\n",
    "    se = np.sqrt(conversion*(1-conversion)*(1/nobs_old + 1/nobs_new))\n",
    "    z_score = (ctr_new -ctr_old - effect_size) / se\n",
    "    "
   ]
  },
  {
   "cell_type": "code",
   "execution_count": null,
   "metadata": {},
   "outputs": [],
   "source": [
    "   old_p = 100. / 1000\n",
    "    new_p = 105. / 1000\n",
    "    old_row = 1000.\n",
    "    new_row = 1000.\n",
    "    z_test(old_p, new_p, old_row, new_row)\n",
    "\n",
    "    # p-value should be << 1\n",
    "    z_test(old_p, new_p, old_row, new_row, two_tailed=False)\n",
    "\n",
    "    # p-value should be 1 because z-score < 0\n",
    "    z_test(new_p, old_p, old_row, new_row, two_tailed=False)"
   ]
  }
 ],
 "metadata": {
  "kernelspec": {
   "display_name": "Python 3",
   "language": "python",
   "name": "python3"
  },
  "language_info": {
   "codemirror_mode": {
    "name": "ipython",
    "version": 3
   },
   "file_extension": ".py",
   "mimetype": "text/x-python",
   "name": "python",
   "nbconvert_exporter": "python",
   "pygments_lexer": "ipython3",
   "version": "3.8.6"
  }
 },
 "nbformat": 4,
 "nbformat_minor": 4
}
