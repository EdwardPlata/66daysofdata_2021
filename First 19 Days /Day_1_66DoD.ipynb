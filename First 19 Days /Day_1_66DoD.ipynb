{
 "cells": [
  {
   "cell_type": "markdown",
   "metadata": {},
   "source": [
    "### Quick python Runtime_analysis_testing #66daysofdata"
   ]
  },
  {
   "cell_type": "code",
   "execution_count": 1,
   "metadata": {},
   "outputs": [],
   "source": [
    "## This first day will be a bit all over the place but I'll be taking a look at some \n",
    "#Let's solve some anagrams (slow and fast)"
   ]
  },
  {
   "cell_type": "code",
   "execution_count": 2,
   "metadata": {},
   "outputs": [],
   "source": [
    "def find_anagrams(lst):\n",
    "    result = list()\n",
    "    for words in lst:\n",
    "        for word in words:\n",
    "            if words != word and sorted(word) == sorted(words):\n",
    "                if word not in result:\n",
    "                    result.append(word)\n",
    "                if words not in result:\n",
    "                    result.append(words)\n",
    "    return result"
   ]
  },
  {
   "cell_type": "code",
   "execution_count": 3,
   "metadata": {},
   "outputs": [],
   "source": [
    "#Let's use these words\n",
    "list_words = ['rat', 'rab', 'bat', 'tab', 'bagder', 'rad', 'dar', 'art', 'bart', 'bar']"
   ]
  },
  {
   "cell_type": "code",
   "execution_count": 4,
   "metadata": {},
   "outputs": [
    {
     "name": "stdout",
     "output_type": "stream",
     "text": [
      "16.6 µs ± 46.8 ns per loop (mean ± std. dev. of 7 runs, 100000 loops each)\n"
     ]
    }
   ],
   "source": [
    "%%timeit\n",
    "find_anagrams(list_words)"
   ]
  },
  {
   "cell_type": "code",
   "execution_count": 5,
   "metadata": {},
   "outputs": [],
   "source": [
    "#Optimizing this since it does take longer\n",
    "from collections import defaultdict\n",
    "def find_anagrams_faster(lst): \n",
    "    result = []\n",
    "    d = defaultdict(list) \n",
    "    for word in lst:\n",
    "        d[tuple(sorted(word))].append(word) \n",
    "    for k, v in d.items():\n",
    "        if len(v) > 1: result .extend(v)\n",
    "    return result"
   ]
  },
  {
   "cell_type": "code",
   "execution_count": 7,
   "metadata": {},
   "outputs": [
    {
     "name": "stdout",
     "output_type": "stream",
     "text": [
      "6.61 µs ± 23 ns per loop (mean ± std. dev. of 7 runs, 100000 loops each)\n"
     ]
    }
   ],
   "source": [
    "%%timeit\n",
    "find_anagrams_faster(list_words)"
   ]
  },
  {
   "cell_type": "markdown",
   "metadata": {},
   "source": [
    "#### There's a huge boost here! But how fast is it?"
   ]
  },
  {
   "cell_type": "code",
   "execution_count": 31,
   "metadata": {},
   "outputs": [],
   "source": [
    "from timeit import Timer # Create and hold time values\n",
    "import matplotlib.pyplot as plt # Creating graphs\n",
    "import numpy as np # arrays are quicker than lists\n",
    "#%matplotlib inline # Make graphs show up in the notebook itself\n",
    "\n",
    "def how_fast(func, inputs, iterations= 100):\n",
    "    '''\n",
    "    INPUTS: func: the function we will be using\n",
    "            inputs: Self explanitory (what inputs will we be putting through our function)\n",
    "            iterations: How many times will we be running this\n",
    "    OUTPUT: A 2 dim graphs \n",
    "            x-axis: Size of input\n",
    "            y-axis: runtime          \n",
    "    '''\n",
    "    function_name = func.__name__\n",
    "    print(\"TESTING:{0}\".format(function_name))\n",
    "    y = list()\n",
    "    for i in inputs:\n",
    "        t = Timer(stmt ='{0}({1})'.format(function_name,i),\n",
    "                setup = 'from __main__ import {0}'.format(function_name))\n",
    "        y.append(t.timeit(iterations)/iterations)\n",
    "    x= [len(i) for i in inputs]\n",
    "    plt.plot(x,y,label = function_name, marker = '.')\n",
    "    plt.legend()"
   ]
  },
  {
   "cell_type": "code",
   "execution_count": 25,
   "metadata": {},
   "outputs": [],
   "source": [
    "# Let's create a wordlist with several words to find anagrams\n",
    "import urllib #Fetch files from online\n",
    "with urllib.request.urlopen('http://www.mieliestronk.com/corncob_lowercase.txt') as f:\n",
    "    text = f.read().decode()\n",
    "    words = [word.strip() for word in text.split('\\n')] # All words in the dictionary\n",
    "wordlists= []\n",
    "for n in range(10,200,10):\n",
    "    wordlists.append(words[:n])"
   ]
  },
  {
   "cell_type": "code",
   "execution_count": 32,
   "metadata": {},
   "outputs": [
    {
     "name": "stdout",
     "output_type": "stream",
     "text": [
      "TESTING:find_anagrams\n",
      "TESTING:find_anagrams_faster\n"
     ]
    },
    {
     "data": {
      "image/png": "[encoded data removed]",
      "text/plain": [
       "<Figure size 432x288 with 1 Axes>"
      ]
     },
     "metadata": {
      "needs_background": "light"
     },
     "output_type": "display_data"
    }
   ],
   "source": [
    "how_fast(find_anagrams,wordlists, iterations = 20)\n",
    "how_fast(find_anagrams_faster,wordlists,iterations = 20)"
   ]
  },
  {
   "cell_type": "code",
   "execution_count": null,
   "metadata": {},
   "outputs": [],
   "source": []
  }
 ],
 "metadata": {
  "kernelspec": {
   "display_name": "Python 3",
   "language": "python",
   "name": "python3"
  },
  "language_info": {
   "codemirror_mode": {
    "name": "ipython",
    "version": 3
   },
   "file_extension": ".py",
   "mimetype": "text/x-python",
   "name": "python",
   "nbconvert_exporter": "python",
   "pygments_lexer": "ipython3",
   "version": "3.8.6"
  }
 },
 "nbformat": 4,
 "nbformat_minor": 4
}
